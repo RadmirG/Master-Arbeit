{
 "cells": [
  {
   "cell_type": "markdown",
   "id": "dbca80d4-2820-414e-969f-ccd8615e999a",
   "metadata": {
    "tags": []
   },
   "source": [
    "<h1 style=\"color:rgb(127,203,223)\"><center>Modul<br>\n",
    "    \"Mathematische Methoden des maschinellen Lernens\"<br><br>Sommersemester 2023</center></h1>"
   ]
  },
  {
   "cell_type": "markdown",
   "id": "95328502-c6dd-458c-a07d-2d435e438e98",
   "metadata": {},
   "source": [
    "<center><h3><a href=\"mailto:atewes@bht-berlin.de\">Prof. Dr. Andreas Tewes</a></h3>"
   ]
  },
  {
   "cell_type": "markdown",
   "id": "c2334386-3fc7-4c38-a49b-3cc4d6974661",
   "metadata": {},
   "source": [
    "---"
   ]
  },
  {
   "cell_type": "markdown",
   "id": "37790e5f-5e25-4e14-bf34-a20804b16187",
   "metadata": {
    "slideshow": {
     "slide_type": "slide"
    },
    "tags": []
   },
   "source": [
    "<center><img src=\"pics/bht.png\"/></center>"
   ]
  },
  {
   "cell_type": "markdown",
   "id": "020b3637-8865-42c3-bea4-bddc74081038",
   "metadata": {},
   "source": [
    "---"
   ]
  },
  {
   "cell_type": "markdown",
   "id": "caadcfb6-7c3d-4ecc-b84b-501c54129cbd",
   "metadata": {},
   "source": [
    "<h1>Inhaltsverzeichnis</h1>"
   ]
  },
  {
   "cell_type": "markdown",
   "id": "75cecd67-09ca-4a85-8092-1672e307e7be",
   "metadata": {
    "tags": []
   },
   "source": [
    "<div style=\"text-indent:10px;\"><a href=\"Chapter01.ipynb\"><h2>1.0 Einführung</h2></a></div>"
   ]
  },
  {
   "cell_type": "markdown",
   "id": "b985605d-7afc-43ad-98cc-a7c3f5005205",
   "metadata": {
    "tags": []
   },
   "source": [
    "<div style=\"text-indent:30px;\"><a href=\"Chapter01.ipynb#s1\"><h3>1.1 Organisatorisches</h3></a></div>"
   ]
  },
  {
   "cell_type": "markdown",
   "id": "d350cc3e-77c6-4348-974b-725bb7425317",
   "metadata": {
    "tags": []
   },
   "source": [
    "<div style=\"text-indent:30px;\"><a href=\"Chapter01.ipynb#s2\"><h3>1.2 Inhalt und Ziele</h3></a></div>"
   ]
  },
  {
   "cell_type": "markdown",
   "id": "c0be515a-78a8-46ae-a724-e8656c1a619a",
   "metadata": {},
   "source": [
    "<div style=\"text-indent:30px;\"><a href=\"Chapter01.ipynb#s3\"><h3>1.3 Verwendete Software</h3></a></div>"
   ]
  },
  {
   "cell_type": "markdown",
   "id": "80907f32-2045-4bd8-924b-67e03cb93a9e",
   "metadata": {
    "tags": []
   },
   "source": [
    "<div style=\"text-indent:30px;\"><a href=\"Chapter01.ipynb#s4\"><h3>1.4 Ausgewählte Beispiele</h3></a></div>"
   ]
  },
  {
   "cell_type": "markdown",
   "id": "e4b81cfe-060a-4dba-9f4e-ec13aa0dd08c",
   "metadata": {
    "tags": []
   },
   "source": [
    "<div style=\"text-indent:45px;\"><a href=\"Chapter01.ipynb#s5\"><h4>1.4.1 End-to-End Deep Learning for Self-Driving Cars</h4></a></div>"
   ]
  },
  {
   "cell_type": "markdown",
   "id": "3f5a91f2-bd24-424d-ac30-2c5bf82de47b",
   "metadata": {},
   "source": [
    "<div style=\"text-indent:45px;\"><a href=\"Chapter01.ipynb#s6\"><h4>1.4.2 Segmentierung von Wirbelkörpern auf MRT-Aufnahmen</h4></a></div>"
   ]
  },
  {
   "cell_type": "markdown",
   "id": "d9b38e5f-eab7-418a-82be-076d9a4a8a29",
   "metadata": {},
   "source": [
    "<div style=\"text-indent:45px;\"><a href=\"Chapter01.ipynb#s7\"><h4>1.4.3 Vehicle-Detection</h4></a></div>"
   ]
  },
  {
   "cell_type": "markdown",
   "id": "cb383283-0b11-47c7-98c6-a74024e57fdc",
   "metadata": {},
   "source": [
    "<div style=\"text-indent:45px;\"><a href=\"Chapter01.ipynb#s8\"><h4>1.4.4 Physics-informed neural networks</h4></a></div>"
   ]
  },
  {
   "cell_type": "markdown",
   "id": "cd92e8b0-9f5a-4040-8582-fcba14c60088",
   "metadata": {},
   "source": [
    "<div style=\"text-indent:45px;\"><a href=\"Chapter01.ipynb#s9\"><h4>1.4.5 Segnet - Semantic Segmentation</h4></a></div>"
   ]
  },
  {
   "cell_type": "markdown",
   "id": "44c8cd85-6ee7-4800-90b1-469699be125b",
   "metadata": {},
   "source": [
    "<div style=\"text-indent:10px;\"><a href=\"Chapter02.ipynb#s0\"><h2>2.0 Grundlagen</h2></a></div>"
   ]
  },
  {
   "cell_type": "markdown",
   "id": "271cbdda-e2ab-4529-bd64-b28c9bd57426",
   "metadata": {
    "tags": []
   },
   "source": [
    "<div style=\"text-indent:30px;\"><a href=\"Chapter02.ipynb#s1\"><h3>2.1 Machine Learning versus Artificial Intelligence</h3></a></div> "
   ]
  },
  {
   "cell_type": "markdown",
   "id": "59bdeba0-6fcf-4625-921b-ba050fff7bec",
   "metadata": {
    "tags": []
   },
   "source": [
    "<div style=\"text-indent:30px;\"><a href=\"Chapter02.ipynb#s2\"><h3>2.2 Regression und Klassifikation</h3></a></div> "
   ]
  },
  {
   "cell_type": "markdown",
   "id": "95cd5c8c-ee99-455a-93d9-08278f6615fa",
   "metadata": {},
   "source": [
    "<div style=\"text-indent:45px;\"><a href=\"Chapter02.ipynb#s3\"><h4>2.2.1 Regression</h4></a></div> "
   ]
  },
  {
   "cell_type": "markdown",
   "id": "e53bf5fa-bbf4-4678-b010-6ab9391c52fe",
   "metadata": {
    "tags": []
   },
   "source": [
    "<div style=\"text-indent:30px;\"><a href=\"Chapter02.ipynb#s4\"><h3>2.3 Grundlegende Definitionen und Bewertungskriterien</h3></a></div> "
   ]
  },
  {
   "cell_type": "markdown",
   "id": "383a8de8-6c23-470c-af36-ca376d1e662b",
   "metadata": {},
   "source": [
    "<div style=\"text-indent:45px;\"><a href=\"Chapter02.ipynb#s5\"><h4>2.3.1 Metriken für die binäre Klassifikation</h4></a></div> "
   ]
  },
  {
   "cell_type": "markdown",
   "id": "af8409fb-00e4-4b0e-9804-b6bf0c95df6f",
   "metadata": {},
   "source": [
    "<div style=\"text-indent:45px;\"><a href=\"Chapter02.ipynb#s6\"><h4>2.3.2 Metriken für die  Multiklassen-Klassifikation</h4></a></div> "
   ]
  },
  {
   "cell_type": "markdown",
   "id": "dbf76bdd-10d7-4600-ac59-dd745a016c26",
   "metadata": {
    "tags": []
   },
   "source": [
    "<div style=\"text-indent:10px;\"><a href=\"Chapter03.ipynb#s0\"><h2>3.0 Klassifikations- und Regressionsverfahren Teil 1</h2></a></div>"
   ]
  },
  {
   "cell_type": "markdown",
   "id": "d4084d97-4133-4260-89cc-52539e0f878d",
   "metadata": {
    "jp-MarkdownHeadingCollapsed": true,
    "tags": []
   },
   "source": [
    "<div style=\"text-indent:30px;\"><a href=\"Chapter03.ipynb#s1\"><h3>3.1 Der Naive Bayes-Klassifikator</h3></a></div> "
   ]
  },
  {
   "cell_type": "markdown",
   "id": "6a831cc2-8cca-42d5-a3d8-a328f6f0394d",
   "metadata": {
    "tags": []
   },
   "source": [
    "<div style=\"text-indent:30px;\"><a href=\"Chapter03.ipynb#s2\"><h3>3.2 Die logistische Regression</h3></a></div> "
   ]
  },
  {
   "cell_type": "markdown",
   "id": "f87dca22-f4bd-4ab7-918b-5902a9e200bf",
   "metadata": {},
   "source": [
    "<div style=\"text-indent:30px;\"><a href=\"Chapter03.ipynb#s3\"><h3>3.3 Classification and Regression Trees CART</h3></a></div> "
   ]
  },
  {
   "cell_type": "markdown",
   "id": "61b59503-f336-4473-8f60-a61cd7ccde3a",
   "metadata": {},
   "source": [
    "<div style=\"text-indent:30px;\"><a href=\"Chapter03.ipynb#s5\"><h3>3.4 Adaptive Boosting</h3></a></div> "
   ]
  },
  {
   "cell_type": "markdown",
   "id": "05f7159e-a089-4fa0-9af6-e0326b384316",
   "metadata": {
    "tags": []
   },
   "source": [
    "<div style=\"text-indent:30px;\"><a href=\"Chapter03.ipynb#s6\"><h3>3.5 Bias Variance Tradeoff and Cross-Validation</h3></a></div> "
   ]
  },
  {
   "cell_type": "markdown",
   "id": "cc227eb8-fc86-47d3-8f46-11b43d961e1e",
   "metadata": {},
   "source": [
    "<div style=\"text-indent:10px;\"><a href=\"Chapter04.ipynb#s0\"><h2>4.0 Unüberwachtes Lernen</h2></a></div>"
   ]
  },
  {
   "cell_type": "markdown",
   "id": "a2a0ba16-058d-4615-9516-90667622b741",
   "metadata": {
    "tags": []
   },
   "source": [
    "<div style=\"text-indent:30px;\"><a href=\"Chapter04.ipynb#s1\"><h3>4.1 Principal Component Analysis</h3></a></div> "
   ]
  },
  {
   "cell_type": "markdown",
   "id": "a1bd5523-70d1-4b03-9195-c8d4dca6c8b8",
   "metadata": {},
   "source": [
    "<div style=\"text-indent:30px;\"><a href=\"Chapter04.ipynb#s2\"><h3>4.2 Eigenfaces</h3></a></div> "
   ]
  },
  {
   "cell_type": "markdown",
   "id": "de70677c-a78c-4c50-9e44-11ba308fe710",
   "metadata": {},
   "source": [
    "<div style=\"text-indent:45px;\"><a href=\"Chapter04.ipynb#s6\"><h4>4.2.1 Nichtlineare Dimensionsreduktion - Ein Beispiel</h4></a></div> "
   ]
  },
  {
   "cell_type": "markdown",
   "id": "b14b079a-c8f1-4b58-b02e-786da9e910ce",
   "metadata": {
    "tags": []
   },
   "source": [
    "<div style=\"text-indent:30px;\"><a href=\"Chapter04.ipynb#s3\"><h3>4.3 Clustering</h3></a></div> "
   ]
  },
  {
   "cell_type": "markdown",
   "id": "ebc8eae6-7ec6-41d6-96e7-8a881dd92538",
   "metadata": {},
   "source": [
    "<div style=\"text-indent:45px;\"><a href=\"Chapter04.ipynb#s4\"><h4>4.3.1 k-Means-Clustering</h4></a></div> "
   ]
  },
  {
   "cell_type": "markdown",
   "id": "01828c2a-1c9e-47fd-9854-1fd3f033867b",
   "metadata": {
    "tags": []
   },
   "source": [
    "<div style=\"text-indent:45px;\"><a href=\"Chapter04.ipynb#s5\"><h4>4.3.2 Gaussian Mixture Model</h4></a></div> "
   ]
  },
  {
   "cell_type": "markdown",
   "id": "3dc53486-9b83-48d9-847b-114ae1fb5b93",
   "metadata": {},
   "source": [
    "<div style=\"text-indent:10px;\"><a href=\"Chapter05.ipynb#s0\"><h2>5.0 Klassifikations- und Regressionsverfahren Teil 2</h2></a></div>"
   ]
  },
  {
   "cell_type": "markdown",
   "id": "b5a7f2df-e408-47e2-bec5-06d40b022d05",
   "metadata": {
    "tags": []
   },
   "source": [
    "<div style=\"text-indent:30px;\"><a href=\"Chapter05.ipynb#s1\"><h3>5.1 Multilayer Perceptron - eine Einführung</h3></a></div> "
   ]
  },
  {
   "cell_type": "markdown",
   "id": "f4e88563-c8eb-4b96-8d1a-b6e86af392cb",
   "metadata": {},
   "source": [
    "<div style=\"text-indent:30px;\"><a href=\"Chapter05.ipynb#s2\"><h3>5.2 Automatisches Differenzieren</h3></a></div> "
   ]
  },
  {
   "cell_type": "markdown",
   "id": "1682d9f9-01b2-42a9-b761-02dc7fbcee07",
   "metadata": {
    "tags": []
   },
   "source": [
    "<div style=\"text-indent:30px;\"><a href=\"Chapter05.ipynb#s3\"><h3>5.3 Gradient Descent und Backpropagation</h3></a></div> "
   ]
  },
  {
   "cell_type": "markdown",
   "id": "e4eb1340-5d98-4072-802b-8e47762f1afd",
   "metadata": {},
   "source": [
    "<div style=\"text-indent:30px;\"><a href=\"Chapter05.ipynb#s4\"><h3>5.4 Projektaufgabe</h3></a></div> "
   ]
  },
  {
   "cell_type": "markdown",
   "id": "b6808005-5fe7-40de-b151-cfcee3c4fe4b",
   "metadata": {
    "tags": []
   },
   "source": [
    "<div style=\"text-indent:30px;\"><a href=\"Chapter05.ipynb#s5\"><h3>5.5 Anwendungen des MLP</h3></a></div> "
   ]
  },
  {
   "cell_type": "markdown",
   "id": "ea044cdb-86d0-43eb-aa7b-9f52fcc02ae1",
   "metadata": {},
   "source": [
    "<div style=\"text-indent:30px;\"><a href=\"Chapter05.ipynb#s6\"><h3>5.6 Support Vector Machine</h3></a></div> "
   ]
  },
  {
   "cell_type": "markdown",
   "id": "6dea5788-e850-4945-b0a1-72d72d74222d",
   "metadata": {},
   "source": [
    "<div style=\"text-indent:45px;\"><a href=\"Chapter05.ipynb#s5\"><h4>5.6.1 Der Kernel-Trick</h4></a></div> "
   ]
  },
  {
   "cell_type": "markdown",
   "id": "06bd8db6-8d33-48af-81b5-56a9f1301535",
   "metadata": {
    "tags": []
   },
   "source": [
    "<div style=\"text-indent:10px;\"><a href=\"Chapter06.ipynb#s0\"><h2>6.0 Deep Learning - Eine Einführung</h2></a></div>"
   ]
  },
  {
   "cell_type": "markdown",
   "id": "f72fbcb0-9e8c-4d77-a89b-8495979fc853",
   "metadata": {},
   "source": [
    "<div style=\"text-indent:30px;\"><a href=\"Chapter06.ipynb#s1\"><h3>6.1 Deep Learning - was ist das eigentlich?</h3></a></div> "
   ]
  },
  {
   "cell_type": "markdown",
   "id": "860f0994-b95b-4235-8aa7-1b92431b069b",
   "metadata": {},
   "source": [
    "<div style=\"text-indent:30px;\"><a href=\"Chapter06.ipynb#s2\"><h3>6.2 Number Classification</h3></a></div> "
   ]
  },
  {
   "cell_type": "markdown",
   "id": "35a41481-1829-42db-b6d1-74c84844b787",
   "metadata": {},
   "source": [
    "<div style=\"text-indent:30px;\"><a href=\"Chapter06.ipynb#s3\"><h3>6.3 Bildsegmentierung mit dem U-Net</h3></a></div> "
   ]
  },
  {
   "cell_type": "markdown",
   "id": "76f8a994-5298-42a0-8a14-a83913bec9ec",
   "metadata": {},
   "source": [
    "<div style=\"text-indent:30px;\"><a href=\"Chapter06.ipynb#s4\"><h3>6.4 Chat-GPT - Ein Game Changer?</h3></a></div> "
   ]
  },
  {
   "cell_type": "markdown",
   "id": "84902438-37a7-42ce-b7bb-186c048a0eeb",
   "metadata": {},
   "source": [
    "<div style=\"text-indent:30px;\"><a href=\"Chapter06.ipynb#s5\"><h3>6.5 PINNs - Eine erste Einführung</h3></a></div> "
   ]
  },
  {
   "cell_type": "markdown",
   "id": "fd152ae5-bad3-42e6-bf6f-7c5d9a7906ae",
   "metadata": {},
   "source": [
    "<div style=\"text-indent:45px;\"><a href=\"Chapter06.ipynb#s6\"><h4>6.5.1 Ein Randwertproblem - PINN</h4></a></div> "
   ]
  },
  {
   "cell_type": "markdown",
   "id": "a525c6e4-c831-4da0-9533-c17d62de2f2a",
   "metadata": {},
   "source": [
    "<div style=\"text-indent:45px;\"><a href=\"Chapter06.ipynb#s7\"><h4>6.5.2 Eine Integro-Differentialgleichung - PINN</h4></a></div> "
   ]
  },
  {
   "cell_type": "markdown",
   "id": "4aaafc45-712d-4dd8-8026-6533075688ca",
   "metadata": {},
   "source": [
    "<div style=\"text-indent:45px;\"><a href=\"Chapter06.ipynb#s8\"><h4>6.5.3 Some more sophisticated examples - PINN</h4></a></div> "
   ]
  },
  {
   "cell_type": "markdown",
   "id": "6777cc3f-9fa8-4d62-9d74-860a0addb679",
   "metadata": {},
   "source": [
    "<div style=\"text-indent:30px;\"><a href=\"Chapter06.ipynb#s9\"><h3>6.6 Ausblick</h3></a></div> "
   ]
  },
  {
   "cell_type": "markdown",
   "id": "4d4160fd-89d1-430c-a667-1f1854332b11",
   "metadata": {},
   "source": [
    "<div style=\"text-indent:30px;\"><a href=\"Chapter06.ipynb#s10\"><h3>6.7 Benefits and Risks of AI</h3></a></div> "
   ]
  },
  {
   "cell_type": "code",
   "execution_count": null,
   "id": "9b82952a-c640-48ea-90f0-55255215ef85",
   "metadata": {},
   "outputs": [],
   "source": []
  }
 ],
 "metadata": {
  "kernelspec": {
   "display_name": "Python 3 (ipykernel)",
   "language": "python",
   "name": "python3"
  },
  "language_info": {
   "codemirror_mode": {
    "name": "ipython",
    "version": 3
   },
   "file_extension": ".py",
   "mimetype": "text/x-python",
   "name": "python",
   "nbconvert_exporter": "python",
   "pygments_lexer": "ipython3",
   "version": "3.12.3"
  }
 },
 "nbformat": 4,
 "nbformat_minor": 5
}
