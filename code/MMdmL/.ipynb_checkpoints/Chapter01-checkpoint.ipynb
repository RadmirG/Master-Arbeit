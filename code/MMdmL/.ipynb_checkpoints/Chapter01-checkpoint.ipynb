{
 "cells": [
  {
   "cell_type": "markdown",
   "id": "0f5c4d16-2291-426d-a647-0a2b24e373f2",
   "metadata": {
    "tags": []
   },
   "source": [
    "<h2 style=\"color:rgb(127,203,223)\">1. Einführung</h2>"
   ]
  },
  {
   "cell_type": "markdown",
   "id": "b5288a1b-ed2a-4a05-b4e0-22fa5771a5d2",
   "metadata": {
    "tags": []
   },
   "source": [
    "<a id=\"s1\"></a><h3 style=\"color:rgb(127,203,223)\">1.1 Organisatorisches</h3>"
   ]
  },
  {
   "cell_type": "code",
   "execution_count": 9,
   "id": "a0fed93f-fab4-402e-839c-a30f34996f30",
   "metadata": {
    "tags": []
   },
   "outputs": [
    {
     "data": {
      "text/html": [
       "\n",
       "        <iframe\n",
       "            width=\"1400\"\n",
       "            height=\"1000\"\n",
       "            src=\"PDF/Organisatorisches.pdf\"\n",
       "            frameborder=\"0\"\n",
       "            allowfullscreen\n",
       "            \n",
       "        ></iframe>\n",
       "        "
      ],
      "text/plain": [
       "<IPython.lib.display.IFrame at 0x108069030>"
      ]
     },
     "execution_count": 9,
     "metadata": {},
     "output_type": "execute_result"
    }
   ],
   "source": [
    "from IPython.display import IFrame\n",
    "IFrame(src='PDF/Organisatorisches.pdf', width='1400', height='1000')"
   ]
  },
  {
   "cell_type": "markdown",
   "id": "6cea3250-8b0c-422e-9cd4-10e8093a23ff",
   "metadata": {},
   "source": [
    "<a id=\"s2\"></a><h3 style=\"color:rgb(127,203,223)\">1.2 Inhalt und Ziele</h3>"
   ]
  },
  {
   "cell_type": "markdown",
   "id": "370f9513-5c89-4f0f-a82d-b548f99d003e",
   "metadata": {
    "tags": []
   },
   "source": [
    "Im Rahmen dieses einsemestrigen Moduls sollen die Grundlagen des maschinellen Lernens sowohl aus mathematischer als auch aus Anwendungssicht behandelt werden. Nach einer Einführung in die Grundlagen sowie die wesentlichen Begriffe und Metriken, werden wichtige Verfahren des überwachten wie auch unüberwachten Lernens behandelt. Hierbei soll zum einen eine aus mathematischer Sicht möglichst rigorose Einführung in die Algorithmen gegeben werden, zum anderen aber auch die praktische Verwendung anhand ausgewählter Beispiele besprochen werden. Neben den <i>klassischen</i> Verfahren soll auch der Themenkomplex des <b>Deep Learning</b> exemplarisch anhand so genannter <i>Convolutional Neural Networks</i> thematisiert werden. <br> Ziel ist ein theoretisches Verständnis hinsichtlich ausgewählter Verfahren aus den Bereichen des überwachten sowie unüberwachten maschinellen Lernens als auch deren praktischer Einsatz. Weiterhin soll die Verwendung sowie die Interpretation notwendiger Metriken und Bewertungskriterien beherrscht werden.<br>\n",
    "Das Modul endet mit einer <i><b>kritischen Übersicht</b></i> über ausgewählte aktuelle Entwicklungen und soll Risiken aber auch Chancen dieser Technologie beleuchten."
   ]
  },
  {
   "cell_type": "markdown",
   "id": "7de68ea0-87a3-4e85-883d-ee3dc6e8f906",
   "metadata": {
    "tags": []
   },
   "source": [
    "<a id=\"s3\"></a><h3 style=\"color:rgb(127,203,223)\"> 1.3 Verwendete Software</h3>"
   ]
  },
  {
   "cell_type": "markdown",
   "id": "9f18a85a-f0e0-43e2-9a9c-70667246dc26",
   "metadata": {
    "tags": []
   },
   "source": [
    "Python ist eine so genannte Skriptsprache. Befehle, die über eine Konsole eingegeben werden, werden direkt ausgeführt. Der Programm-Code muss also nicht zuvor in Maschinen-Code übersetzt werden, wie es bspw. bei Compiler-Sprachen wie C oder C++ der Fall ist. Dies vereinfacht die Programmierung und verkürzt die Feedback-Zeiten, wenn mal ein Fehler auftritt. Dieser Vorteil wird jedoch mit dem Nachteil erkauft, dass interpretierte Sprachen nicht die Geschwindigkeit/Performanz von Compiler-Sprachen erreichen. Das bedeutet aber nicht, dass Python grundsätzlich langsam sein muss. Viele Befehle selbst sind in C geschrieben und können daher auch performant ausgeführt werden. Sie werden jedoch im Laufe des Kurses merken, dass es beim Programmieren darauf ankommt, nach Möglichkeit Gebrauch von eingebauten Algorithmen zu machen und insbesondere for-Schleifen wann immer es geht zu vermeiden.\n",
    "Python zählt heute zu den wichtigsten Sprachen insbesondere im Bereich des maschinellen Lernens. Dies ist auch dadurch zu erklären, dass Python über eine sehr umfangreiche Standardbibliothek an Befehlen verfügt. Diese deckt viele Themen unterschiedlicher Anwendungsbereiche ab. Darüber hinaus gibt es noch eine Vielzahl von Software- Paketen (ca. 290.000 Stand September 2021), die auf Python basieren und eine schier unüberschaubare Zahl von Domänen abdecken. Die Tatsache, dass Python sowie zu- gehörige Bibliotheken auf unterschiedlichen Betriebssystemplattformen zur Verfügung stehen, ermöglicht es, Lösungen, die bspw. unter Windows erstellt wurden ohne An- derungen auch auf MacOS oder Linux auszuführen. Last but not least hat auch der Umstand, dass Python sowie die meisten seiner Pakete freie Software sind und daher kostenlos verwendet werden können, zu seiner Verbreitung beigetragen.<P>\n",
    "Wir werden in diesem Kurs für Python hauptsächlich die Programbibliotheken NumPy, scikit-learn sowie scikit-image verwenden. Erstere ermöglicht die einfache Verwendung und vielfältige Manipulation von Vektoren, Matrizen sowie mehrdimensionalen Arrays. Diejenigen unter Ihnen, die bereits mit matlab gearbeitet haben, werden hier ein Deja-vu erleben. scikit-learn ist eine weitgehend in Python geschriebene Software-Bibliothek zum maschinellen Lernen. Sie enthält eine Vielzahl von Algorithmen aus den Bereichen des überwachten und unüberwachten Lernens. Teilweise kommen aus Gründen der Performanz auch in der Programmiersprache C geschriebene Algorithmen zum Einsatz, die jedoch in Form von Wrappern direkt in Python verwendet werden können. \n",
    "scikit-image ist eine weitgehend in Python geschriebene Software-Bibliothek zur Bildverarbeitung. Als solche enthält sie eine Vielzahl von Algorithmen aus den Bereichen geometrische Transformation, Filterung, Merkmals-Erkennung und vielem mehr. Neben der zeilenweisen Ausführung von Python-Code in einer Konsole, können Python-Skripte natürlich auch mit einem Editor erstellt und dann en bloc ausgeführt werden. Dies ist das eigentliche Standardvorgehen, sobald es um die Entwicklung eigener Anwendungen geht. Hier können Sie entweder einen einfachen ASCII-Editor verwenden oder auch eine so genannte IDE (Integrated Development Environment), also eine Entwicklungsumgebung. Hier gibt es eine Reihe von Varianten, die frei oder kommerziell erhältlich sind. Hier sei <a href=\"https://www.jetbrains.com/de-de/pycharm/\">PyCharm</a> als Beispiel genannt. Einige weitere Bibliotheken werden an geeigneter Stelle eingeführt bzw. vorgestellt.<P>\n",
    "Dieses Skript wird als Jupyter-Notebook realisiert und neue Kapitel werden im Vorgriff auf deren Besprechung jeweils in Moodle veröffentlicht. Weitere Details zu deren Verwendung folgen in der Vorlesung.<P>\n",
    "<ul>\n",
    "    <li><a href=\"https://numpy.org/\">Numpy</a></li> \n",
    "    <li><a href=\"https://scikit-learn.org/stable/\">scikit-learn</a></li> \n",
    "    <li><a href=\"https://scikit-image.org/\">scikit-image</a></li> \n",
    "    <li><a href=\"https://jupyter.org/\">Jupyter</a></li> \n",
    "</ul>    \n",
    "    Ein kurzes <a href=\"https://jupyter.org/try-jupyter/lab/\">Demo</a> zu Jupyter lab und dessen Verwendung."
   ]
  },
  {
   "cell_type": "markdown",
   "id": "408df49a-94fd-45d6-8ae3-2f55680ecade",
   "metadata": {},
   "source": [
    "<a id=\"s4\"></a><h3 style=\"color:rgb(127,203,223)\"> 1.4 Ausgewählte Beispiele aus dem Bereich Computer Vision</h3>\n",
    "Als Computer-Vision bezeichnen wir die interdisziplinäre Domäne, die sich damit beschäftigt, Maschinen eine Form von visueller Wahrnehmung basierend auf Einzelbildern oder Bildströmen zu ermöglichen. Ein wesentliches Ziel besteht darin, der Maschine eine dem menschlichen visuellen System gleichwertige Form der Wahrnehmung zu ermöglichen. Computer Vision besteht wiederum aus einer Vielzahl von Subdomänen wie bspw. Szenen-Verständnis, Objektdetektion bzw. -erkennung, Tracking und viele mehr. Im Folgenden werden einige einführende Beispiele erläutert."
   ]
  },
  {
   "cell_type": "markdown",
   "id": "b7009d6c-57b8-46cd-a460-f6226ce10d75",
   "metadata": {},
   "source": [
    "<a id=\"s5\"></a><h4 style=\"color:rgb(127,203,223)\">1.4.1 End-to-End Deep Learning for Self-Driving Cars</h4>\n",
    "<p style=\"text-align: center\"><img src=\"pics/data-collection-system-624x411.png\" alt=\"Bild\" style=\"height: 220px; width: 300px;\"><br></p><br>"
   ]
  },
  {
   "cell_type": "markdown",
   "id": "955ea4c6-e69e-4566-a31a-327e7178f908",
   "metadata": {
    "tags": []
   },
   "source": [
    "<A href=\"https://www.youtube.com/watch?v=NJU9ULQUwng&t=1s\">Dave-2 A Neural Network Drives A Car</A>"
   ]
  },
  {
   "cell_type": "markdown",
   "id": "62b8eafd-69a6-4eba-b073-f95c003c5513",
   "metadata": {
    "tags": []
   },
   "source": [
    "<a id=\"s6\"></a><h4 style=\"color:rgb(127,203,223)\">1.4.2 Segmentierung von Wirbelkörpern auf MRT-Aufnahmen</h4>\n",
    "Das folgende Beispiel zeigt die semantische Segmentierung von Wirbelkörpern basierend auf MRT-Schichtaufnahmen der menschlichen Wirbelsäule. Segmentierung bedeutet hierbei, dass für jedes einzelne Pixel des Bildes entschieden wird (Klassifikation) ob dieses Pixel zu einem Wirbelkörper gehört oder nicht. Basierend auf dem Ergebnis wird dann eine Maske erstellt, die auf das ursprüngliche Bild angewendet die Wirbelkörper extrahiert. \n",
    "<p style=\"text-align: center\"><video controls src=\"videos/MRT-Slice.mp4\" type=\"video/mp4\"/></video>\n",
    "<video controls src=\"videos/Masks.mp4\" type=\"video/mp4\"/></video>\n",
    "<video controls src=\"videos/Vertebrae.mp4\" type=\"video/mp4\"/></video></p>"
   ]
  },
  {
   "cell_type": "markdown",
   "id": "b4c4bba7-b694-406b-9b1f-1b7ce388020f",
   "metadata": {
    "tags": []
   },
   "source": [
    "<a id=\"s7\"></a><h4 style=\"color:rgb(127,203,223)\">1.4.3 Vehicle-Detection</h4>\n",
    "In diesem Beispiel wird die Detektion von Fahrzeugen in einem Videostream dargestellt. Die detektierten Fahrzeuge werden mit einer ihre geschätzte Breite darstellenden Klammern annotiert. Des Weiteren wird auch der geschätzte Abstand zum Fahrzeug eingeblendet.\n",
    "<p style=\"text-align: center\"><video controls src=\"videos/OD.mp4\" type=\"video/mp4\"/></video></p>"
   ]
  },
  {
   "cell_type": "markdown",
   "id": "14d0865e-fdd5-49b7-9014-f5a3500305e9",
   "metadata": {
    "tags": []
   },
   "source": [
    "<a id=\"s8\"></a><h4 style=\"color:rgb(127,203,223)\">1.4.4 Physics-informed neural networks</h4>\n",
    "Auch in der Physik können neuronale Netze eingesetzt werden, um bspw. nicht messbare Größen aus anderen messbaren Größen sowie dem bekannten physikalischen Gesetzmäßigkeiten abzuleiten. Die so genannten Physics-informed neural networks, kurz <a href=\"https://maziarraissi.github.io/PINNs/\">PINNs</a>, verwenden hierbei die Eigenschaft neuronale Netze, auch sehr komplexe Abbildungen beschreiben zu können.\n",
    "<p style=\"text-align: center\"><img src=\"pics/NavierStokes-Equations.png\" alt=\"Bild\"></p><br>\n",
    "<p style=\"text-align: center\"><img src=\"pics/NavierStokes_data.png\" alt=\"Bild\"></p><br>\n",
    "<p style=\"text-align: center\"><img src=\"pics/NavierStokes_prediction.png\" alt=\"Bild\"></p><br>"
   ]
  },
  {
   "cell_type": "markdown",
   "id": "564c31af-9671-4089-af04-f0b51167de69",
   "metadata": {},
   "source": [
    "<a id=\"s9\"></a><h4 style=\"color:rgb(127,203,223)\">1.4.5 Segnet - Semantic Segmentation</h4>\n",
    "SegNet ermöglicht die semantische Segmentierung von Straßen- und Indoor-Szenen. Statt einer binären Klassifikation (Objekt/Hintergrund) kommt hier eine Klassifikation in bis zu 11 verschiedene Klassen zum Einsatz."
   ]
  },
  {
   "cell_type": "markdown",
   "id": "ae8e72f5-c433-4527-978c-7e15c511bc9a",
   "metadata": {},
   "source": [
    "<A href=\"https://www.youtube.com/watch?v=CxanE_W46ts\">Segnet</A>"
   ]
  }
 ],
 "metadata": {
  "kernelspec": {
   "display_name": "Python 3 (ipykernel)",
   "language": "python",
   "name": "python3"
  },
  "language_info": {
   "codemirror_mode": {
    "name": "ipython",
    "version": 3
   },
   "file_extension": ".py",
   "mimetype": "text/x-python",
   "name": "python",
   "nbconvert_exporter": "python",
   "pygments_lexer": "ipython3",
   "version": "3.11.3"
  }
 },
 "nbformat": 4,
 "nbformat_minor": 5
}
