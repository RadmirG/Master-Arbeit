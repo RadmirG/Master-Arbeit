{
 "cells": [
  {
   "cell_type": "markdown",
   "id": "8af460ce-0a89-4c6a-b9dd-7282697191a6",
   "metadata": {},
   "source": [
    "<a id=\"s0\"></a><h2 style=\"color:rgb(127,203,223)\">6.0 Deep Learning - Eine Einführung</h2>"
   ]
  },
  {
   "cell_type": "markdown",
   "id": "f6554750-e9c3-48f1-b492-36ac80f522ac",
   "metadata": {},
   "source": [
    "<a id=\"s1\"></a><h3 style=\"color:rgb(127,203,223)\">6.1 Deep Learning - was ist das eigentlich?</h3>"
   ]
  },
  {
   "cell_type": "markdown",
   "id": "5a977e89-aef4-47ea-a5e0-2c80d7b506b8",
   "metadata": {},
   "source": [
    "Deep Learning ist in den letzten Jahren ein regelrechtes Buzzword geworden. Dies liegt vor allem an den öffentlichkeitswirksamen Fortschritten, die in unterschiedlichen Disziplinen mit diesem Bereich des maschinellen Lernens erreicht worden sind. Genannt werden sollen an dieser Stelle bspw. <b>AlphaGo</b> (<a href=\"https://de.wikipedia.org/wiki/AlphaGo\">wikipedia</a>,<a href=\"https://www.deepmind.com/research/highlighted-research/alphago\">DeepMind</a>), <b>ChatGPT</b> (<a href=\"https://de.wikipedia.org/wiki/ChatGPT\">wikipedia</a>), <b>AlphaFold</b> (<a href=\"https://en.wikipedia.org/wiki/AlphaFold\">wikipedia</a>,<a href=\"https://www.deepmind.com/research/highlighted-research/alphafold\">DeepMind</a>), <a href=\"https://en.wikipedia.org/wiki/DeepL_Translator\"><b>DeepL</b></a> u.v.m.<br>\n",
    "Doch was ist Deep Learning eigentlich und inwiefern unterscheidet es sich von den bisher besprochenen Verfahren?<br>\n",
    "Tatsächlich ist diese Frage gar nicht ganz so einfach zu beantworten, da dieser Begriff ganz unterschiedliche Aspekte beinhaltet. Wir wollen die Beschreibung aus dem Buch <a href=\"https://www.amazon.de/Deep-Learning-Adaptive-Computation-Machine/dp/0262035618/ref=sr_1_1?__mk_de_DE=%C3%85M%C3%85%C5%BD%C3%95%C3%91&crid=3Q9Q8A6PK791X&keywords=Deep+Learning&qid=1656836054&sprefix=deep+learning%2Caps%2C77&sr=8-1&asin=0262035618&revisionId=&format=4&depth=1\"><i>Deep Learning</i></a> mal an den Anfang stellen:<br><br>\n",
    "<center><i>The hierarchy of concepts enables the computer to learn complicated concepts by building them out of simpler ones. If we draw a graph showing how these concepts are built on top of each other, the graph is deep, with many layers. For this reason, we call this approach to AI <b>deep learning</b></i></center><br>\n",
    "<center>Quelle: Deep Learning (Ian Goodfellow, Yoshua Bengio, and Aaron Courville)</center><br><br>"
   ]
  },
  {
   "cell_type": "markdown",
   "id": "f71d586b-f0e4-489c-bf93-dd965dea9a5f",
   "metadata": {},
   "source": [
    "Schauen wir uns die Erläuterung auf der englischen Wikipedia bzgl. des Begriffes <i>Deep learning</i> an, so finden wir dort die folgende einleitende Definition:<br><br>\n",
    "<center><i><b>Deep learning</b> (also known as <b>deep structured learning</b>) is part of a broader family of machine learning methods based on artificial neural networks with representation learning</i></center><br><br>\n",
    "    <center>Qelle: wikipedia</center><br>\n",
    "Hier wird der Begriff des <b>representation learning</b> verwendet. Um diesen zu verstehen, soll kurz auf die <i>klassische</i> Bearbeitung von Bildern eingegangen werden. Vor der Verfügbarkeit von Deep learning wurde bei der automatisierten Verarbeitung von Bildern üblicherweise so vorgegangen, dass zunächst Merkmale aus dem Bild extrahiert worden sind. Hierbei handelte es sich in der Regel um Merkmalsvektoren, die basierend auf Verfahren der Bildverarbeitung definiert wurden. Häufig, aber nicht ausschließlich, handelte es sich dabei um Kanteninformationen. Die Merkmale wurden eher <i>ingenieurstechnisch</i> definiert und dann mit entsprechenden Algorithmen aus den Bildern extrahiert. Diese Merkmale wurden so <i>designed</i>, dass die für die jeweilige Aufgabenstellung relevante Information in den Merkmalen enthalten blieb, die Merkmale aber eine signifikante Dimensionsreduktion darstellten. Basierend auf diesen Merkmalsvektoren wurden dann eines oder ggf. auch mehrere der klassischen - Ihnen nun bereits teilweise bekannten - Verfahren aus dem Bereich Machine Learning angewendet. Der Prozess der Merkmalsdefinition und -Extraktion war also von dem der Klassifikation deutlich getrennt. Diese Unterscheidung, wie wir noch sehen werden, wird bei Verfahren des Deep Learning aufgelöst. Die tiefen neuronalen Netze \"erlernen\" basierend auf Beispielen <u>nicht nur</u> die eigentliche Klassifikation sondern <u>zusätzlich</u> auch die Art von Merkmalen, die besonders geeignet sind, die gestellte Aufgabe zu lösen. Da diese Merkmale die für die Aufgabenstellung relevante Information repräsentieren, sprechen wir hier auch von <i>representation learning</i>. Diese Repräsentationen, und da kommen wieder die tiefen Schichten zum Vorschein, werden hierarchisch \"erlernt\", komplexere Repräsentationen werden basierend auf einfacheren Repräsentationen erzeugt.<br><br>\n",
    "<p style=\"text-align: center\"><img src=\"pics/DeepLearning06.png\" alt=\"Bild\" style=\"height: 500px; width: 700px;\"><br>Quelle: Wikipedia</p><br><br>\n",
    "Wie wir im vorhergehenden Kapitel bereits gesehen haben, baut auch das Multilayer Perceptron auf so genannten <b>hidden layers</b> auf. Es zeigte sich jedoch rasch, dass diese nicht beliebig in ihrer Anzahl erhöht werden können ohne das das Netz seine Fähigkeit verliert, diese inneren Schichten auch zu trainieren. Dies lag zum einen in der Struktur des Trainings bedingt. Denken Sie daran, dass beim <a href=\"Chapter05.ipynb#s3\">Backpropagation</a> die Ableitungen von der Ausgabeschicht zur Eingabeschicht propagiert werden. Aufgrund der Kettenregel werden diese miteinander multipliziert. Bei einem tiefen Netz kommt es somit zu einer großen Zahl an Faktoren. Denken Sie des Weiteren an die <a href=\"Chapter05.ipynb#s1\">sigmoide Aktivierungsfunktion</a>. Befindet sich auf diesem Weg auch nur ein Neuron, dessen Anregung sehr groß oder sehr klein gewesen ist, so ist der Wert der Ableitung der Aktivierungsfunktion an dieser Stelle faktisch gleich Null. Hiermit wird somit das gesamte Produkt gleich Null und ein Training der weiteren Schichten kann nicht mehr stattfinden. Dieses Phänomen ist unter dem Begriff <b>vanishing gradient</b> bekannt. Dieses Problem, zusammen mit einer Reihe weiterer Probleme (Topologie der Netze, Initialisierung der Gewichte, ...) wurde im Kontext des <i>Deep Learning</i> aufgegriffen und auf unterschiedliche Weise gelöst oder zumindest abgemildert.<br>\n",
    "Ein weiteres Problem zu Zeiten des Multilayer Perceptrons bestand auch sicherlich darin, dass weder die Datenmengen vorhanden waren, die uns heute zur Verfügung stehen, noch die notwendige Rechenleistung in Form moderner Graphikarten (GPUs). In der folgenden Abbildung ist die Größe der Datensätze über die Zeit abgebildet. <b>Man berücksichtige die logarithmische Auftragung!</b>   "
   ]
  },
  {
   "cell_type": "markdown",
   "id": "c000cd7f-fe9a-4eca-9002-5857d7a74501",
   "metadata": {},
   "source": [
    "<p style=\"text-align: center\"><img src=\"pics/DeepLearning01.png\" alt=\"Bild\" style=\"height: 500px; width: 700px;\"><br>Quelle: Deep Learnig (Ian Goodfellow, Yoshua Bengio, and Aaron Courville). Für weitere Details zu dieser Abbildung sei auf das Buch verwiesen.</p><br>"
   ]
  },
  {
   "cell_type": "markdown",
   "id": "5fd61237-76ab-4651-be1a-029d754c8033",
   "metadata": {},
   "source": [
    "Da dieses Kapitel lediglich einen ersten Blick auf die Thematik des <b>Deep Learning</b> werfen kann, und dies auch nur exemplarisch und mit dem Fokus auf die Verarbeitung von Bildern erfolgen soll, konzentrieren wir uns nun auf eine spezielle Anwendung. Anhand dieser soll der grundsätzliche Aufbau eines so genannten <b>Convolutional Neural Network</b> erläutert und eingeführt werden. Im Anschluss schauen wir uns dann ein weiteres Beispiel zur Segmentierung von Bildern an, dass ebenfalls auf diesen Faltungsschichten basiert. Kommen wir also zunächst zur Aufgabenstellung und betrachten wir dann schrittweise den Aufbau des neuronalen Netzes.<br>"
   ]
  },
  {
   "cell_type": "markdown",
   "id": "47d3fa11-2ab9-42fc-b46f-d1706076c3a6",
   "metadata": {},
   "source": [
    "<a id=\"s2\"></a><h3 style=\"color:rgb(127,203,223)\">6.2 Number Classification</h3>"
   ]
  },
  {
   "cell_type": "markdown",
   "id": "c606237d-77b3-4d8c-96eb-68dee5760c64",
   "metadata": {},
   "source": [
    "<p style=\"text-align: center\"><img src=\"pics/DeepLearning02.png\" alt=\"Bild\" style=\"height: 500px; width: 600px;\"><br>Quelle: Tensorflow</p><br>"
   ]
  },
  {
   "cell_type": "markdown",
   "id": "234c8331-90cd-4493-897b-c38935a0ac30",
   "metadata": {},
   "source": [
    "In der obigen Abbildung sind Beispiele von handgeschriebenen Ziffern (0...9) dargestellt. Es handelt sich dabei um Grauwert-Bilder der Größe 28x28 Pixel. Die Datenbank beinhaltet (Quelle: <a href=\"https://www.tensorflow.org/datasets/catalog/mnist\">Tensorflow</a>) 60.000 Trainings- und 10.000 Testbilder. Zu jedem Bild existiert ein Label, welches die jeweilige Zahl darstellt. Wir wollen nun ein neuronales Netz aufsetzen, welches in seiner Eingabeschicht jeweils ein ganzes Bild engegennimmt (28x28=784 Eingabeneuronen) und das über 10 Ausgabeneuronen verfügt. Jedes dieser Ausgabeneuronen gibt die \"Wahrscheinlichkeit\" dafür an, dass es sich um die jeweilige Zahl handelt. Alle Wahrscheinlichkeiten addieren sich zu Eins, es kommt also die Softmax-Funktion zum Einsatz.<br>\n",
    "Wir wollen uns das Netzwerk, welches unter Verwendung des Frameworks <a href=\"https://www.tensorflow.org/\"><b>tensorflow</b></a> erstellt worden ist, nun im Detail anschauen (es gibt eine Reihe weiterer Frameworks wie bspw. Pytorch, matlab, ...):"
   ]
  },
  {
   "cell_type": "markdown",
   "id": "3ea03202-1dbc-4b99-abd2-454b8039928a",
   "metadata": {},
   "source": [
    "Schauen wir uns den Programm-code abschnittweise an. Sie werden einiges wiedererkennen, da Sie es bereits im Zusammenhang mit dem Multilayer Perceptron kennengelernt haben. Einiges ist aber auch dezidiert neu, so dass wir darauf etwas genauer eingehen werden."
   ]
  },
  {
   "cell_type": "markdown",
   "id": "e195e607-91e0-41ad-bb0b-0ad209aa9949",
   "metadata": {},
   "source": [
    "<p style=\"text-align: center\"><img src=\"pics/DeepLearning03.png\" alt=\"Bild\" style=\"height: 300px; width: 900px;\"><br>Code-Abschnitt 1</p><br>"
   ]
  },
  {
   "cell_type": "markdown",
   "id": "350f6c13-5306-4f56-ad8b-9a1923376c78",
   "metadata": {},
   "source": [
    "In diesem ersten Code-Abschnitt importieren wir zunächst die relevanten Python-Bibliotheken. Neu ist hierbei im wesentlichen die Bibliothek <b>tensorflow</b>. Wir legen die Lernrate, die dieselbe Bedeutung wie beim MLP besitzt sowie die Anzahl der beim Training zu verwendenden Epochen fest. Im Anschluss daran werden Trainings- und Testdatensatz eingelesen. Hierzu wird eine Standardfunktion innerhalb von tensorflow verwendet. Das Konzept ähnelt dem, welches Ihnen bereits von sklearn geläufig ist. Unter Verwendung der numpy-Funktion <i>reshape</i> wird das Format des arrays entsprechend der tensorflow-Syntax angepasst. Sie erkennen an der <i>input_shape</i>, dass jedes Bild die Größe von $28x28$ Pixeln besitzt und über einen Channel verfügt. Das bedeutet, dass es sich um ein Grauwertbild handelt. Bei einem Farbbild würden hier 3 Channel vorliegen (jeweils einer für den roten, grünen und blauen Kanal)."
   ]
  },
  {
   "cell_type": "markdown",
   "id": "fa15c2d1-0b03-4c72-9846-68d897497b2d",
   "metadata": {},
   "source": [
    "<p style=\"text-align: center\"><img src=\"pics/DeepLearning04.png\" alt=\"Bild\" style=\"height: 300px; width: 900px;\"><br>Code-Abschnitt 2</p><br>"
   ]
  },
  {
   "cell_type": "markdown",
   "id": "3a232544-3b08-4653-ba14-951004b65071",
   "metadata": {},
   "source": [
    "Nachdem wir den zu verwendenden Datentypen (float32) für die Trainings- und Testdaten festegelegt haben, dividieren wir noch durch 255. Da es sich um 8-Bit Bilder handelt, entspricht der maximale Grauwert (=weiß) der $2^8 -1 = 255$. Auf diese Weise erreichen wir, dass alle Pixelwerte zwischen Null und Eins liegen. Sie hatten bereits in der Vergangenheit gesehen, dass eine diesbezügliche Vorverarbeitung der Daten für das anschließende Training von Vorteil sein kann. Im Anschluss daran legen wir die Eingabeschicht des Netzwerkes fest und führen (siehe auch lambda-Kalkül bei Python) die Normalisierung durch, die ja auch bei der Inferenz (Prädiktion), also der Anwendung des neuronalen Netzes, zur Anwendung kommen soll. "
   ]
  },
  {
   "cell_type": "markdown",
   "id": "4747b57a-481a-45a4-b8c6-502a5128709f",
   "metadata": {},
   "source": [
    "<p style=\"text-align: center\"><img src=\"pics/DeepLearning05.png\" alt=\"Bild\" style=\"height: 150px; width: 1100px;\"><br>Code-Abschnitt 3</p><br>"
   ]
  },
  {
   "cell_type": "markdown",
   "id": "20a6e363-34d6-4ff9-8a00-c51948bff8a7",
   "metadata": {},
   "source": [
    "In diesem Abschnitt wird das eigentliche neuronale Netz definiert. Hier kommen vier verschiedene neue Elemente zum Einsatz, die im folgenden vorgestellt werden. Zunächst wird eine so genannte Faltungsschicht (Convolution-Layer) definiert. Dieser verfügt über $28$ Aktivierungskarten (Activation Maps) und jeweils einem Kernel der Größe $3x3$. Diese Schicht, die einer ganzen Klasse von tiefen neuronalen Netzen ihren Namen gegeben hat (<b>Convolutional Neural Networks</b>) wollen wir uns etwas genauer anschauen. Diejenigen, die das Modul <b>Bildverarbeitung</b> belegt hatten, kennen bereits die Faltung von Bildern mit Filtermasken. Hierbei wird eine Maske (Matrix, Kernel) - in diesem Fall ist es eine $3x3$-Matrix - über das Bild geschoben und die entsprechenden Einträge mit den darunter befindlichen Pixelwerten multipliziert. Die einzelnen Produkte werden dann aufsummiert und ergeben den Wert im Ergebnisbild (an der Stelle der Filtermaske). Mit Hilfe solcher Filtermasken lassen sich Bilder glätten, Kanten hervorheben und vieles mehr. In diesem Fall sollen also 28 verschiedene solcher Filtermasken erstellt (<b>erlernt</b>) werden, die jeweils die Größe $3x3$ Pixel besitzen. Da bei der Faltung an den Rändern des Bildes das Problem auftritt, dass die Filtermasken über das Bild hinausragen, muss eine gesonderte Randbehandlung definiert werden. Hier wird mit dem Parameter <i>padding='same'</i> erreicht, dass ein zusätzlicher Rahmen um das Bild gelegt wird, der mit Nullen aufgefüllt wird. Neben der Aktivierungsfunktion, hier kommt eine <i>Rectified Linear Unit</i> zum Einsatz, wird auch noch vorgegeben, wie die Gewichte dieser Schicht initialisiert werden sollen. <b>Wie lässt sich so eine Faltung nun als Schicht in einem neuronalen Netz darstellen?</b><br>\n",
    "Schauen wir uns dazu die folgende Abbildung an.<br><br>"
   ]
  },
  {
   "cell_type": "code",
   "execution_count": 2,
   "id": "87c45470-3b26-4e86-9237-774a7f85ef19",
   "metadata": {
    "tags": []
   },
   "outputs": [
    {
     "data": {
      "text/html": [
       "\n",
       "        <iframe\n",
       "            width=\"800\"\n",
       "            height=\"600\"\n",
       "            src=\"https://www.geogebra.org/m/cdj84tmt\"\n",
       "            frameborder=\"0\"\n",
       "            allowfullscreen\n",
       "            \n",
       "        ></iframe>\n",
       "        "
      ],
      "text/plain": [
       "<IPython.lib.display.IFrame at 0x1061f7d90>"
      ]
     },
     "execution_count": 2,
     "metadata": {},
     "output_type": "execute_result"
    }
   ],
   "source": [
    "from IPython.display import IFrame\n",
    "IFrame(src='https://www.geogebra.org/m/cdj84tmt', width=800, height=600)"
   ]
  },
  {
   "cell_type": "markdown",
   "id": "205c4668-d6ae-4d4d-9db2-ef668392ad89",
   "metadata": {},
   "source": [
    "In der obigen Abbildung ist der Input-Layer in blau dargestellt. Die Input-Neuronen sind bereits wie die Pixel des Bildes angeordnet. Jedes Neuron der Folgeschicht (erste Faltungsschicht) ist nun nicht mit allen Neuronen der Eingabeschicht verbunden sondern stattdessen nur mit $9$ Neuronen gemäß der vorgegebenen Kernel-Größe von $3x3$. Zu jeder der $9$ Verbindungen gehören demnach auch jeweils ein Gewicht, in Summe also $9$ Gewichte. Nun ist es jedoch nicht so, dass jedes Neuron $9$ eigene Gewichte besitzt sondern stattdessen gibt es nur $9$ verschiedene Gewichte für diese Faltungsschicht und dieses Kernel. Einander entsprechende Verbindungen teilen sich jeweils ein Gewicht. Es kommt dann lediglich noch ein <i>Bias</i> hinzu. Das macht in Folge dessen also $9$ Gewichte plus einem Bias pro Kernel. Da wir $28$ verschiedene Kernel vorgegeben haben, brauchen wir für die Faltungsschicht und alle 28 Kernel (bzw. Aktivierungskarten) in Summe also $252$ Gewichte und $28$ Biases. Das Ganze würde sich dann bei weiteren Faltungsschichten entsprechend wiederholen. Wie im obigen Beispiel zu erkennen, kommt der Input der zweiten Faltungsschicht (hier rot dargestellt) aus der gesamten ersten Faltungsschicht. Das Kernel besitzt daher nun 3x3x2 Gewichte. Die zwei ergibt sich daraus, dass beide Aktivierungskarten berücksichtigt werden.\n",
    "Auf diese zweite Faltungsschicht folgt nun eine so genannte Pooling-Schicht, genauer gesagt ein MaxPooling-Layer. Dieser verfügt selbst über keine Gewichte sondern dient dazu die Größe (in Höhe und Breite) der Schichten zu verkleinern. In diesem Fall werden die Schichten in Höhe und Breite jeweils halbiert. Dies geschieht, wie in der unten dargestellten Abbildung gezeigt, dadurch, dass jeweils in einem $2x2$-Raster (dies kann durch Parameter auch geändert werden) nur der Wert beibehalten wird, der jeweils am größten ist. Wir behalten hier somit nur die jeweils größte Aktivierung."
   ]
  },
  {
   "cell_type": "markdown",
   "id": "0921431d-1607-4c35-9b82-ef6a95cded8b",
   "metadata": {},
   "source": [
    "<p style=\"text-align: center\"><img src=\"pics/MaxPooling.png\" alt=\"Bild\" style=\"height: 400px; width: 800px;\"><br>Funktion des MaxPooling-Layers</p><br>"
   ]
  },
  {
   "cell_type": "markdown",
   "id": "28b487e9-e3ea-4183-b650-0de0dff33816",
   "metadata": {},
   "source": [
    "Es bleiben somit pro Aktivierungskarte - die MaxPooling-Funktion arbeitet separat für jede Aktivierungskarte - noch $14x14$ Neuronen übrig. Mittels des <i>Flatten-Layers</i> wird nun aus den $14x14x28$-Neuronen ein Vektor von $14*14*28$-Neuronen erzeugt. Es ändert sich also lediglich die Interpretation der Anordnung. Es folgt ein <i>Dense-Layer</i>, der dem entspricht, was Sie schon vom Multilayer Perceptron her kennen. Jedes der $5488=14x14x28$ Neuronen wird nun mit $128$ Neuronen des <i>Dense-Layers</i> verbunden. Wir erhalten somit $702464$ Gewichte und $128$ Biases. Im letzten Schritt werden diese $128$ Neuronen mit den $10$ Ausgabeneuronen verbunden. Dies ergibt noch einmal $1280$ Gewichte und $10$ Biases. Des Weiteren wird bei der Ausgabeschicht noch festgelegt, dass als Aktivierungsfunktion die <b>Softmax</b>-Funktion verwendet werden soll. Das Modell wird komplettiert, indem wir Eingabe und Ausgabeschicht festlegen.<br>\n",
    "Das neuronale Netz verfügt also insgesamt über $703996$ Gewichte und $166$ Biases, die im Rahmen des Trainings bestimmt werden müssen!<br><br>"
   ]
  },
  {
   "cell_type": "markdown",
   "id": "eaaf24e1-b5e4-4f38-8c25-2b64d59a1cb3",
   "metadata": {},
   "source": [
    "<p style=\"text-align: center\"><img src=\"pics/DeepLearning07.png\" alt=\"Bild\" style=\"height: 250px; width: 1100px;\"><br>Code-Abschnitt 4</p><br>"
   ]
  },
  {
   "cell_type": "markdown",
   "id": "1abbaafd-0243-44b5-be2f-bcbeb6719eef",
   "metadata": {},
   "source": [
    "Im nun folgenden Code-Abschnitt, siehe obige Abbildung, werden nun so genannte Callback-Funktionen festgelegt. Diese haben nicht direkt etwas mit dem Kern-Verfahren zu tun, ermöglichen aber, dass eine bestimmte Funktion nach jeder Epoche ausgeführt wird. In diesem Fall wird der Wert der Loss-Funktion auf den Validierungsdaten gespeichert und nach jedem Durchlauf das Modell des neuronalen Netzes, so es sich ggü. der vorherigen Epoche verbessert hat. Anschließend wird das Modell kompiliert, dass heißt, es wird zusammengestellt, der Optimierer (Gradientenabstieg) wird festgelegt, ebenso die Loss-Funktion und die zu dokumentierenden Metriken. Die Funktion <i>summary</i> plottet den Aufbau des Netzes und stand Pate bei der entsprechenden Implementierung im MLP. Schließlich startet das eigentliche Training mit der Funktion <i>fit</i>. Das Modell wird dann noch als Visualisierung gespeichert (siehe Abbildung unten). Der Rest des Codes dient der weiteren Visualisierung mittels <i>matplotlib</i> sowie der Anwendung des trainierten Netzes auf den Test-Daten mittels des Befehls <i>model.evaluate(...)</i>.<br><br>"
   ]
  },
  {
   "cell_type": "markdown",
   "id": "99956ad8-6ff3-44bb-aca3-ebcc59a7dc8e",
   "metadata": {},
   "source": [
    "<p style=\"text-align: center\"><img src=\"pics/Model.png\" alt=\"Bild\" style=\"height: 800px; width: 500px;\"><br>Fertiges Modell</p><br>"
   ]
  },
  {
   "cell_type": "code",
   "execution_count": 1,
   "id": "1a2bb05e-b1d5-471e-a259-22efd89fd524",
   "metadata": {
    "tags": []
   },
   "outputs": [
    {
     "name": "stdout",
     "output_type": "stream",
     "text": [
      "x_train shape: (60000, 28, 28, 1)\n",
      "Number of images in x_train 60000\n",
      "Number of images in x_test 10000\n",
      "WARNING:tensorflow:Compiled the loaded model, but the compiled metrics have yet to be built. `model.compile_metrics` will be empty until you train or evaluate the model.\n"
     ]
    },
    {
     "name": "stderr",
     "output_type": "stream",
     "text": [
      "/opt/homebrew/lib/python3.11/site-packages/keras/src/engine/training.py:3079: UserWarning: You are saving your model as an HDF5 file via `model.save()`. This file format is considered legacy. We recommend using instead the native Keras format, e.g. `model.save('my_model.keras')`.\n",
      "  saving_api.save_model(\n"
     ]
    },
    {
     "name": "stdout",
     "output_type": "stream",
     "text": [
      "Model: \"model\"\n",
      "_________________________________________________________________\n",
      " Layer (type)                Output Shape              Param #   \n",
      "=================================================================\n",
      " input_1 (InputLayer)        [(None, 28, 28, 1)]       0         \n",
      "                                                                 \n",
      " lambda (Lambda)             (None, 28, 28, 1)         0         \n",
      "                                                                 \n",
      " conv_layer (Conv2D)         (None, 28, 28, 28)        280       \n",
      "                                                                 \n",
      " max_pooling2d (MaxPooling2  (None, 14, 14, 28)        0         \n",
      " D)                                                              \n",
      "                                                                 \n",
      " flatten (Flatten)           (None, 5488)              0         \n",
      "                                                                 \n",
      " feature_layer (Dense)       (None, 128)               702592    \n",
      "                                                                 \n",
      " dense (Dense)               (None, 10)                1290      \n",
      "                                                                 \n",
      "=================================================================\n",
      "Total params: 704162 (2.69 MB)\n",
      "Trainable params: 704162 (2.69 MB)\n",
      "Non-trainable params: 0 (0.00 Byte)\n",
      "_________________________________________________________________\n",
      "Epoch 1/15\n",
      "1400/1407 [============================>.] - ETA: 0s - loss: 0.1490 - accuracy: 0.9542\n",
      "Epoch 1: saving model to Models/model01.h5\n",
      "1407/1407 [==============================] - 8s 5ms/step - loss: 0.1486 - accuracy: 0.9543 - val_loss: 0.0710 - val_accuracy: 0.9773\n",
      "Epoch 2/15\n",
      "1403/1407 [============================>.] - ETA: 0s - loss: 0.0460 - accuracy: 0.9857\n",
      "Epoch 2: saving model to Models/model02.h5\n",
      "1407/1407 [==============================] - 8s 6ms/step - loss: 0.0460 - accuracy: 0.9857 - val_loss: 0.0692 - val_accuracy: 0.9777\n",
      "Epoch 3/15\n",
      "1403/1407 [============================>.] - ETA: 0s - loss: 0.0269 - accuracy: 0.9916\n",
      "Epoch 3: saving model to Models/model03.h5\n",
      "1407/1407 [==============================] - 8s 6ms/step - loss: 0.0269 - accuracy: 0.9916 - val_loss: 0.0704 - val_accuracy: 0.9795\n",
      "Epoch 4/15\n",
      "1404/1407 [============================>.] - ETA: 0s - loss: 0.0196 - accuracy: 0.9937\n",
      "Epoch 4: saving model to Models/model04.h5\n",
      "1407/1407 [==============================] - 9s 6ms/step - loss: 0.0197 - accuracy: 0.9937 - val_loss: 0.0670 - val_accuracy: 0.9819\n",
      "Epoch 5/15\n",
      "1405/1407 [============================>.] - ETA: 0s - loss: 0.0119 - accuracy: 0.9960\n",
      "Epoch 5: saving model to Models/model05.h5\n",
      "1407/1407 [==============================] - 9s 6ms/step - loss: 0.0119 - accuracy: 0.9960 - val_loss: 0.0738 - val_accuracy: 0.9817\n",
      "Epoch 6/15\n",
      "1403/1407 [============================>.] - ETA: 0s - loss: 0.0100 - accuracy: 0.9966\n",
      "Epoch 6: saving model to Models/model06.h5\n",
      "1407/1407 [==============================] - 9s 6ms/step - loss: 0.0101 - accuracy: 0.9966 - val_loss: 0.0660 - val_accuracy: 0.9831\n",
      "Epoch 7/15\n",
      "1405/1407 [============================>.] - ETA: 0s - loss: 0.0062 - accuracy: 0.9981\n",
      "Epoch 7: saving model to Models/model07.h5\n",
      "1407/1407 [==============================] - 9s 6ms/step - loss: 0.0062 - accuracy: 0.9981 - val_loss: 0.0654 - val_accuracy: 0.9847\n",
      "Epoch 8/15\n",
      "1401/1407 [============================>.] - ETA: 0s - loss: 0.0069 - accuracy: 0.9977\n",
      "Epoch 8: saving model to Models/model08.h5\n",
      "1407/1407 [==============================] - 9s 6ms/step - loss: 0.0068 - accuracy: 0.9977 - val_loss: 0.0705 - val_accuracy: 0.9845\n",
      "Epoch 9/15\n",
      "1404/1407 [============================>.] - ETA: 0s - loss: 0.0040 - accuracy: 0.9988\n",
      "Epoch 9: saving model to Models/model09.h5\n",
      "1407/1407 [==============================] - 9s 6ms/step - loss: 0.0040 - accuracy: 0.9988 - val_loss: 0.0712 - val_accuracy: 0.9851\n",
      "Epoch 10/15\n",
      "1402/1407 [============================>.] - ETA: 0s - loss: 0.0043 - accuracy: 0.9984\n",
      "Epoch 10: saving model to Models/model10.h5\n",
      "1407/1407 [==============================] - 9s 6ms/step - loss: 0.0043 - accuracy: 0.9984 - val_loss: 0.0817 - val_accuracy: 0.9831\n",
      "Epoch 11/15\n",
      "1406/1407 [============================>.] - ETA: 0s - loss: 0.0049 - accuracy: 0.9982\n",
      "Epoch 11: saving model to Models/model11.h5\n",
      "1407/1407 [==============================] - 9s 6ms/step - loss: 0.0049 - accuracy: 0.9982 - val_loss: 0.0750 - val_accuracy: 0.9847\n",
      "Epoch 12/15\n",
      "1401/1407 [============================>.] - ETA: 0s - loss: 0.0019 - accuracy: 0.9993\n",
      "Epoch 12: saving model to Models/model12.h5\n",
      "1407/1407 [==============================] - 9s 6ms/step - loss: 0.0019 - accuracy: 0.9993 - val_loss: 0.0690 - val_accuracy: 0.9873\n",
      "Epoch 13/15\n",
      "1403/1407 [============================>.] - ETA: 0s - loss: 0.0044 - accuracy: 0.9987\n",
      "Epoch 13: saving model to Models/model13.h5\n",
      "1407/1407 [==============================] - 9s 6ms/step - loss: 0.0044 - accuracy: 0.9987 - val_loss: 0.0781 - val_accuracy: 0.9842\n",
      "Epoch 14/15\n",
      "1404/1407 [============================>.] - ETA: 0s - loss: 0.0019 - accuracy: 0.9995\n",
      "Epoch 14: saving model to Models/model14.h5\n",
      "1407/1407 [==============================] - 9s 6ms/step - loss: 0.0019 - accuracy: 0.9995 - val_loss: 0.0771 - val_accuracy: 0.9853\n",
      "Epoch 15/15\n",
      "1404/1407 [============================>.] - ETA: 0s - loss: 0.0013 - accuracy: 0.9996\n",
      "Epoch 15: saving model to Models/model15.h5\n",
      "1407/1407 [==============================] - 9s 6ms/step - loss: 0.0013 - accuracy: 0.9996 - val_loss: 0.0856 - val_accuracy: 0.9858\n"
     ]
    },
    {
     "data": {
      "image/png": "[encoded data removed]",
      "text/plain": [
       "<Figure size 640x480 with 1 Axes>"
      ]
     },
     "metadata": {},
     "output_type": "display_data"
    },
    {
     "data": {
      "image/png": "[encoded data removed]",
      "text/plain": [
       "<Figure size 640x480 with 1 Axes>"
      ]
     },
     "metadata": {},
     "output_type": "display_data"
    },
    {
     "name": "stdout",
     "output_type": "stream",
     "text": [
      "313/313 [==============================] - 1s 2ms/step\n"
     ]
    },
    {
     "data": {
      "text/plain": [
       "<sklearn.metrics._plot.confusion_matrix.ConfusionMatrixDisplay at 0x1762a6390>"
      ]
     },
     "execution_count": 1,
     "metadata": {},
     "output_type": "execute_result"
    },
    {
     "data": {
      "image/png": "[encoded data removed]",
      "text/plain": [
       "<Figure size 640x480 with 2 Axes>"
      ]
     },
     "metadata": {},
     "output_type": "display_data"
    }
   ],
   "source": [
    "import tensorflow as tf\n",
    "import matplotlib.pyplot as plt\n",
    "from sklearn.metrics import confusion_matrix, ConfusionMatrixDisplay\n",
    "import numpy as np\n",
    "\n",
    "# Hyper parameters\n",
    "learning_rate   = 0.001\n",
    "epochs          = 15\n",
    "\n",
    "(x_train, y_train), (x_test, y_test) = tf.keras.datasets.mnist.load_data()\n",
    "\n",
    "# Reshaping the array to 4-dims so that it can work with the Keras API\n",
    "x_train = x_train.reshape(x_train.shape[0], 28, 28, 1)\n",
    "x_test = x_test.reshape(x_test.shape[0], 28, 28, 1)\n",
    "input_shape = (28, 28, 1)\n",
    "\n",
    "# Making sure that the values are float so that we can get decimal points after division\n",
    "x_train = x_train.astype('float32')\n",
    "x_test = x_test.astype('float32')\n",
    "\n",
    "\n",
    "print('x_train shape:', x_train.shape)\n",
    "print('Number of images in x_train', x_train.shape[0])\n",
    "print('Number of images in x_test', x_test.shape[0])\n",
    "\n",
    "# Creating a Sequential Model and adding layers\n",
    "inputs = tf.keras.layers.Input(input_shape)\n",
    "\n",
    "# Normalizing the pixel values by dividing by the max value\n",
    "s = tf.keras.layers.Lambda(lambda x: x/255)(inputs)\n",
    "\n",
    "conv1 = tf.keras.layers.Conv2D(28, (3,3), name='conv_layer', activation=tf.keras.activations.relu, kernel_initializer='he_normal', padding='same')(s)\n",
    "pool1 = tf.keras.layers.MaxPooling2D((2,2))(conv1)\n",
    "flatten = tf.keras.layers.Flatten()(pool1)\n",
    "dense1 = tf.keras.layers.Dense(128, name='feature_layer', activation=tf.keras.activations.relu)(flatten)\n",
    "outputs = tf.keras.layers.Dense(10, activation=tf.keras.activations.softmax)(dense1)\n",
    "model = tf.keras.Model(inputs=[inputs], outputs=[outputs])\n",
    "model.save('Models/model00.h5')\n",
    "\n",
    "cp_callback = tf.keras.callbacks.ModelCheckpoint(filepath='Models/model{epoch:02d}.h5', monitor='val_loss', save_weights_only=False, save_freq='epoch', verbose=1)\n",
    "callbacks = [cp_callback]\n",
    "\n",
    "# compile and start learning the model\n",
    "model.compile(optimizer=tf.keras.optimizers.legacy.Adam(learning_rate=learning_rate), loss='sparse_categorical_crossentropy', metrics=['accuracy'])\n",
    "model.summary()\n",
    "history = model.fit(x=x_train,y=y_train, batch_size=32, epochs=epochs, validation_split=0.25, verbose=1,callbacks=callbacks)\n",
    "\n",
    "# Visualise the model\n",
    "tf.keras.utils.plot_model(model, to_file='model.png', show_shapes=True)\n",
    "\n",
    "# Plot training & validation accuracy values\n",
    "plt.plot(history.history['accuracy'])\n",
    "plt.plot(history.history['val_accuracy'])\n",
    "plt.title('Model accuracy')\n",
    "plt.ylabel('Accuracy')\n",
    "plt.xlabel('Epoch')\n",
    "plt.legend(['Train', 'Validation'], loc='upper left')\n",
    "plt.xticks(np.arange(epochs), np.arange(1, epochs+1))\n",
    "plt.savefig('Model-Accuracy.png')\n",
    "plt.show()\n",
    "\n",
    "# Plot training & validation loss values\n",
    "plt.plot(history.history['loss'])\n",
    "plt.plot(history.history['val_loss'])\n",
    "plt.title('Model loss')\n",
    "plt.ylabel('Loss')\n",
    "plt.xlabel('Epoch')\n",
    "plt.legend(['Train', 'Validation'], loc='upper left')\n",
    "plt.xticks(np.arange(epochs), np.arange(1, epochs+1))\n",
    "plt.savefig('Model-Loss.png')\n",
    "plt.show()\n",
    "\n",
    "# Evaluate the test set\n",
    "#model.evaluate(x_test, y_test)\n",
    "y_pred = np.argmax(model.predict(x_test),axis=1)\n",
    "cm = confusion_matrix(y_test, y_pred)\n",
    "disp = ConfusionMatrixDisplay(confusion_matrix=cm)\n",
    "disp.plot()"
   ]
  },
  {
   "cell_type": "markdown",
   "id": "742262b8-7040-4a9e-a719-3ee4788c3e06",
   "metadata": {},
   "source": [
    "<H2> Wie kann man das Lernen des neuronalen Netzes veranschaulichen?</H2>"
   ]
  },
  {
   "cell_type": "code",
   "execution_count": 2,
   "id": "0242bdc2-ad73-4030-b503-5453c7a89d0f",
   "metadata": {
    "tags": []
   },
   "outputs": [
    {
     "name": "stdout",
     "output_type": "stream",
     "text": [
      "WARNING:tensorflow:No training configuration found in the save file, so the model was *not* compiled. Compile it manually.\n"
     ]
    },
    {
     "data": {
      "application/vnd.jupyter.widget-view+json": {
       "model_id": "05d196aac78a4df8bf6559c9c0bac4f3",
       "version_major": 2,
       "version_minor": 0
      },
      "text/plain": [
       "interactive(children=(IntSlider(value=0, description='epoch', max=15), Output()), _dom_classes=('widget-intera…"
      ]
     },
     "execution_count": 2,
     "metadata": {},
     "output_type": "execute_result"
    }
   ],
   "source": [
    "%matplotlib widget \n",
    "import numpy as np\n",
    "import time\n",
    "import tensorflow as tf\n",
    "from sklearn.manifold import TSNE\n",
    "import matplotlib.pyplot as plt\n",
    "from ipywidgets import interactive, fixed\n",
    "\n",
    "# number of epochs\n",
    "num_epochs = 15\n",
    "\n",
    "# number of samples per class\n",
    "num_samples = 100\n",
    "\n",
    "# load sample data\n",
    "(x_train, y_train), (x_test, y_test) = tf.keras.datasets.mnist.load_data()\n",
    "\n",
    "# draw 20 samples for each class\n",
    "indices_0 = np.random.choice(np.where(y_train == 0)[0],num_samples)\n",
    "indices_1 = np.random.choice(np.where(y_train == 1)[0],num_samples)\n",
    "indices_2 = np.random.choice(np.where(y_train == 2)[0],num_samples)\n",
    "indices_3 = np.random.choice(np.where(y_train == 3)[0],num_samples)\n",
    "indices_4 = np.random.choice(np.where(y_train == 4)[0],num_samples)\n",
    "indices_5 = np.random.choice(np.where(y_train == 5)[0],num_samples)\n",
    "indices_6 = np.random.choice(np.where(y_train == 6)[0],num_samples)\n",
    "indices_7 = np.random.choice(np.where(y_train == 7)[0],num_samples)\n",
    "indices_8 = np.random.choice(np.where(y_train == 8)[0],num_samples)\n",
    "indices_9 = np.random.choice(np.where(y_train == 9)[0],num_samples)\n",
    "\n",
    "color_list = ['red','blue','green','yellow','darkviolet','dodgerblue','darkorange','darkgrey','cyan','peru']\n",
    "reduced_results = np.zeros((num_epochs+1, num_samples*10, 2))\n",
    "\n",
    "# loop over all previously stored models (reflecting model state after several epochs)\n",
    "for i in range(0,num_epochs+1):\n",
    "    filename = \"Models/model%02d.h5\" % i\n",
    "    model = tf.keras.models.load_model(filename)\n",
    "    \n",
    "    # create new model with missing output layer\n",
    "    intermediate_layer_model = tf.keras.Model(inputs=model.input,outputs=model.get_layer('feature_layer').output)\n",
    "    \n",
    "    # calculate feature vectors (consisting of values of neurons in the now last layer)\n",
    "    result = intermediate_layer_model(x_train[indices_0])\n",
    "    result = np.concatenate((result, intermediate_layer_model(x_train[indices_1])))\n",
    "    result = np.concatenate((result, intermediate_layer_model(x_train[indices_2])))\n",
    "    result = np.concatenate((result, intermediate_layer_model(x_train[indices_3])))\n",
    "    result = np.concatenate((result, intermediate_layer_model(x_train[indices_4])))\n",
    "    result = np.concatenate((result, intermediate_layer_model(x_train[indices_5])))\n",
    "    result = np.concatenate((result, intermediate_layer_model(x_train[indices_6])))\n",
    "    result = np.concatenate((result, intermediate_layer_model(x_train[indices_7])))\n",
    "    result = np.concatenate((result, intermediate_layer_model(x_train[indices_8])))\n",
    "    result = np.concatenate((result, intermediate_layer_model(x_train[indices_9])))\n",
    "    \n",
    "    reduced_results[i,:,:] = TSNE(n_components=2, learning_rate='auto', init='random', perplexity=15).fit_transform(result)\n",
    "    \n",
    "    # in order to have comparable views we have to choose a constant orientation and location\n",
    "    dx = -reduced_results[i,0,0]\n",
    "    dy = -reduced_results[i,0,1]\n",
    "    \n",
    "    # angle\n",
    "    phi = np.arctan2(reduced_results[i,1,1]-reduced_results[i,0,1], reduced_results[i,1,0]-reduced_results[i,0,0])\n",
    "    \n",
    "    # perform transformation\n",
    "    for j in range(reduced_results.shape[1]):\n",
    "        x_new = (reduced_results[i,j,0]+dx)*np.cos(-phi)-np.sin(-phi)*(reduced_results[i,j,1]+dy)\n",
    "        y_new = (reduced_results[i,j,0]+dx)*np.sin(-phi)+np.cos(-phi)*(reduced_results[i,j,1]+dy)\n",
    "        \n",
    "        reduced_results[i,j,0] = x_new\n",
    "        reduced_results[i,j,1] = y_new\n",
    "    \n",
    "    \n",
    "\n",
    "def show_features(epoch=0):\n",
    "\n",
    "    plt.rcParams[\"figure.figsize\"] = [10, 10]\n",
    "    plt.rcParams[\"figure.autolayout\"] = True\n",
    "\n",
    "    fig = plt.figure()\n",
    "    ax = fig.add_subplot()\n",
    "    \n",
    "    ax.scatter(reduced_results[epoch,0:num_samples,0], reduced_results[epoch,0:num_samples,1], color=color_list[0])    \n",
    "    ax.scatter(reduced_results[epoch,num_samples:2*num_samples,0], reduced_results[epoch,num_samples:2*num_samples,1], color=color_list[1])        \n",
    "    ax.scatter(reduced_results[epoch,2*num_samples:3*num_samples,0], reduced_results[epoch,2*num_samples:3*num_samples,1], color=color_list[2])    \n",
    "    ax.scatter(reduced_results[epoch,3*num_samples:4*num_samples,0], reduced_results[epoch,3*num_samples:4*num_samples,1], color=color_list[3])    \n",
    "    ax.scatter(reduced_results[epoch,4*num_samples:5*num_samples,0], reduced_results[epoch,4*num_samples:5*num_samples,1], color=color_list[4])    \n",
    "    ax.scatter(reduced_results[epoch,5*num_samples:6*num_samples,0], reduced_results[epoch,5*num_samples:6*num_samples,1], color=color_list[5])\n",
    "    ax.scatter(reduced_results[epoch,6*num_samples:7*num_samples,0], reduced_results[epoch,6*num_samples:7*num_samples,1], color=color_list[6])    \n",
    "    ax.scatter(reduced_results[epoch,7*num_samples:8*num_samples,0], reduced_results[epoch,7*num_samples:8*num_samples,1], color=color_list[7])    \n",
    "    ax.scatter(reduced_results[epoch,8*num_samples:9*num_samples,0], reduced_results[epoch,8*num_samples:9*num_samples,1], color=color_list[8])\n",
    "    ax.scatter(reduced_results[epoch,9*num_samples:10*num_samples,0], reduced_results[epoch,9*num_samples:10*num_samples,1], color=color_list[9])   \n",
    "    #ax.autoscale_view()\n",
    "    ax.set_xlim(-150,150)\n",
    "    ax.set_ylim(-150,150)\n",
    "\n",
    "    plt.show()\n",
    "    \n",
    "# perform actual code\n",
    "v=interactive(show_features,epoch=(0,num_epochs,1))\n",
    "v"
   ]
  },
  {
   "cell_type": "markdown",
   "id": "3a334a72-ddfa-4b99-b9f8-b789b1f733d8",
   "metadata": {},
   "source": [
    "<a id=\"s3\"></a><h3 style=\"color:rgb(127,203,223)\">6.3 Bild-Segmentierung mit dem U-Net</h3>"
   ]
  },
  {
   "cell_type": "markdown",
   "id": "df2be0ee-6eca-44a4-8c91-f47f37c9ee5c",
   "metadata": {},
   "source": [
    "Wie bereits in <a href=\"Chapter01.ipynb#s6\">Kapitel 1</a> vorgestellt, geht es bei der Segmentierung von Bildern vereinfacht gesagt darum, eine Klassenzugehörigkeit für jedes einzelne Pixel zu bestimmen. Dies kann wiederum binär erfolgen, es kann also entschieden werden, ob das Pixel zum ausgewählten Objekt oder stattdessen zum Hintergund gehört. Ebenso möglich ist aber natürlich auch eine Multiklassen-Segmentierung, bei der jedes Pixel einer von mehr als zwei Klassen angehören kann. Die in Kapitel 1 präsentierten Bilder, die die binäre Segmentierung der Wirbelkörper zeigen, sind mit dem folgenden neuronalen Netz, welches als <b>U-Net</b> bezeichnet wird, erstellt worden. Das <a href=\"https://lmb.informatik.uni-freiburg.de/people/ronneber/u-net/\">U-Net</a> geht auf <i>O. Ronneberger et al.</i> zurück. Das hier verwendete U-Net ist in der folgenden Abbildung dargestellt.<br><br>"
   ]
  },
  {
   "cell_type": "markdown",
   "id": "23b91e95-3878-42fb-90bc-387d8f20c503",
   "metadata": {},
   "source": [
    "<p style=\"text-align: center\"><img src=\"pics/U-Net.png\" alt=\"Bild\" style=\"height: 800px; width: 1200px;\"><br>Fertiges Modell</p><br>"
   ]
  },
  {
   "cell_type": "markdown",
   "id": "e9b8d504-58b8-4e9c-ab68-6a1ee23f1b7a",
   "metadata": {},
   "source": [
    "Die Namensgebung ist durch die Form des Netzes movitiert worden. Es handelt sich, siehe auch <a href=\"Chapter05.ipynb#s8\">Kapitel 5</a>, um eine Form von <b>Autoencoder</b>. Der linke Teil des U's entspricht dem <b>Encoder</b> und der rechte Teil des U's dem <b>Decoder</b>. Anders als beim Beispiel in Kapitel 5 soll der Output des Netzes jedoch nicht mit dem Input übereinstimmen sondern stattdessen eine binäre Version des Inputs darstellen, bei dem alle Teile von Wirbelkörpern weiss und alles andere schwarz dargestellt wird. Eine ausführliche Besprechung des Aufbaus sowie der Wirkweise des Netzes wird im Rahmen der Vorlesung durchgeführt. "
   ]
  },
  {
   "cell_type": "markdown",
   "id": "e2dbd916-7c64-408b-944e-90803fc19391",
   "metadata": {},
   "source": [
    "<a id=\"s4\"></a><h3 style=\"color:rgb(127,203,223)\">6.4 ChatGPT - Ein Game Changer?</h3>"
   ]
  },
  {
   "cell_type": "markdown",
   "id": "16548bd3-5f09-4e51-9497-6b20ef7d2edb",
   "metadata": {},
   "source": [
    "Da der Chatbot ChatGPT eine besondere Aufmerksamkeit erlangt hat, sollen hier einige Grundlagen kurz angesprochen werden. Bei ChatGPT handelt es sich um eine Softwareanwendung, die eine menschliche Kommunikation nachahmt. Entwickelt wurde es von <I>OpenAI</I>, gegründet 2015, und finanziert wird es u.a. von Elon Musk und Microsoft.<P>\n",
    "    ChatGPT basiert auf dem <I>Generative Pre-Trained Transformer 3.5</I>. Für ein grundlegendes Verständnis ist daher die Funktionsweise des <I>Transformers</I> essentiell. <I>Transformer</I> stellen vereinfach gesagt eine Kombination aus <I>Convolutional Neural Networks (CNN)</I> und so genannten <I>Attention-Modulen</I> dar. Dies ermöglicht unter anderem eine parallele Verarbeitung von Eingaben und berücksichtigt die Bedeutung einzelner Wörter im Kontext ganzer Sätze für die Analyse (bspw. Übersetzung in andere Sprachen). Der grundsätzliche Aufbau eines <I>Transformers</I> wird bspw. in den folgenden Beiträgen erläutert:<P>\n",
    "    <UL>\n",
    "    <LI><a href=\"https://towardsdatascience.com/transformers-141e32e69591\">How Transformers work</A></LI>\n",
    "    <LI><a href=\"http://jalammar.github.io/illustrated-transformer/\">The Illustrated Transformer</a></LI>\n",
    "    </UL>\n",
    "    Das Training des ChatGPT erfolgt in mehreren Schritten:<P>\n",
    "    <UL>\n",
    "        <LI>Selbstüberwachtes Lernen (self-supervised learning)</LI>\n",
    "        <LI>Fine-Tuning durch überwachtes Lernen</LI>\n",
    "        <LI>Reinforcement Learning (ein Reward-Modell bewertet hierbei die Antworten von ChatGPT)</LI>\n",
    "    </UL>\n",
    "\n",
    "Da die Idee des selbstüberwachten Lernens auch für Anwendungen im Bereich der Computer Vision relevant ist, soll dies noch ein wenig näher betrachtet werden. <B>Yann LeCun</B> definiert diese Form des Lernens wie folgt:<P>\n",
    "    <CENTER><I>Self-supervised learning is one of the most promising ways to build background knowledge and approximate a form of common sense in AI systems.</I></CENTER><BR>\n",
    "Die Idee hierbei, teilweise auch geboren aus der Not, dass eine hinreichend große Zahl von annotierten Daten, wie sie zum überwachten Training notwendig wären, gar nicht zur Verfügung stehen, besteht darin, mit so genannten <I>pseudo-labels</I> zu arbeiten. Diese können automatisiert aus den Daten (Bilder, Text) generiert werden und dienen dann als Referenz für ein überwachtes Lernen. Auf diesem Wege entsteht dann ein Modell, welches zwar noch nicht die ursprüngliche Frage beantworten kann, das jedoch als Grundlage für ein erweitertes Modell zur Lösung des ursprüngliche Problems herangezogen werden kann. Für dieses sind jetzt jedoch sehr viel weniger annotierte Daten erforderlich, da das Model im Rahmen des selbstüberwachten Lernens bereits eine Repräsentation der zur klassifizierenden Objekte erlernt hat. Die (teilweise) Wiederverwendung von bereits vorhandenen Modellen wird unter dem Begriff des <B>Transfer Learning</B> zusammengefasst. Häufig wird hierbei lediglich der Teil des Modells ersetzt, der die finale Klassifikation vornimmt, während der größere Anteil, der für die Erzeugung von für die Klassifikation geeigneten Merkmalsvektoren verantwortlich ist, weitestgehend beibehalten wird. Anbei noch Link zu einer ausführlicheren Beschreibung sowie ein YouTube-Video, in welchem Yann LeCun dieses Lernverfahren thematisiert:<P>\n",
    "    <A href=\"https://ai.meta.com/blog/self-supervised-learning-the-dark-matter-of-intelligence/\">Self-Supervised Learning in Computer Vision</A><BR>\n",
    "    <A href=\"https://www.youtube.com/watch?v=7I0Qt7GALVk&t=2639s\">Self-supervised learning: could machines learn like humans?</A><P>\n",
    "ChatGPT besitzt darüber hinaus auch zusätzliche Mechanismen der \"Zensur\", um unangebrachte Ausgaben bzw. Anfragen zu unterdrücken.<P>    \n",
    "<B>Das Training von ChatGPT verbraucht (Quelle: Wikipedia) in 34 Tagen ca. 1GWh an elektrischer Leistung. Dies entspricht in etwa dem Jahresverbrauch von 200 3-Personenhaushalten!<B>    "
   ]
  },
  {
   "cell_type": "markdown",
   "id": "b13db8d4-991a-47b3-a09f-251402cb5e99",
   "metadata": {},
   "source": [
    "<a id=\"s5\"></a><h3 style=\"color:rgb(127,203,223)\">6.5 PINNs - Eine erste Einführung</h3>"
   ]
  },
  {
   "cell_type": "markdown",
   "id": "74c90f88-701a-46ee-9127-93cabe837751",
   "metadata": {},
   "source": [
    "Der von  <a href=\"https://www.sciencedirect.com/science/article/abs/pii/S0021999118307125\">Raissi et al.</a> eingeführte Begriff <strong>„Physics-informed neural networks“</strong> bezieht sich auf die Verwendung neuronaler Netze, in der Regel eine Form von Multilayer Perceptron (MLP), zur Lösung gewöhnlicher oder partieller Differentialgleichungen. Der Bezug zur Physik ergibt sich vermutlich aus den diskutierten Beispielen, die zumeist aus dem Bereich der Physik stammen, obwohl die Methode selbst keineswegs auf physikalische Probleme beschränkt ist, wie wir noch sehen werden. Neuronale Netze im Allgemeinen und das mehrschichtige Perzeptron im Besonderen werden zur funktionalen Approximation von Lösungen von (partiellen) Differentialgleichungen (P)DEs verwendet. Die Verwendung neuronaler Netze zur Lösung partieller Differentialgleichungen reicht bis in die 90er Jahre des letzten Jahrhunderts zurück. Ausgehend von der Idee der Hopfield-Netze wurden die ersten Methoden zur Verwendung neuronaler Netze zur Lösung von (P)DEs entwickelt. Die (P)DEs selbst wurden dabei bereits in einer Art Verlustfunktion, hier noch als Energiefunktionale bezeichnet, berücksichtigt, die es zu minimieren galt (<a href=\"https://arxiv.org/abs/2211.05567\">link1</a>,<a href=\"https://www.google.de/url?sa=t&source=web&rct=j&opi=89978449&url=https://www.sciencedirect.com/science/article/pii/002199919090007N/pdf%3Fmd5%3D1ad3b41e797414d2a0b579d08700d872%26pid%3D1-s2.0-002199919090007N-main.pdf&ved=2ahUKEwjEnuyb3dOGAxXKh_0HHdvFBuIQFnoECBUQAQ&usg=AOvVaw03ChYHFj3pUIq58WmaQJor\">link2</a>). Nach fast zwei Jahrzehnten, in denen laut unten stehender Abbildung keine nennenswerten Weiterentwicklungen stattgefunden haben, hat der Einsatz von neuronalen Netzen zur Lösung von (P)DEs seit 2017 wieder deutlich an Bedeutung und an Aufmerksamkeit gewonnen. Dies liegt vermutlich auch daran, dass leistungsfähige Frameworks wie <a href=\"https://www.tensorflow.org/\">Tensorflow</a> oder <a href=\"https://pytorch.org/\">PyTorch</a> und leistungsfähige GPUs erst seit etwa 2015 verfügbar sind. Doch warum sind neuronale Netze besonders geeignete Funktionsapproximatoren für die Lösung von (P)DEs?<P>\n",
    "Auch diese Frage wurde bereits Ende der 1990er Jahre diskutiert <a href=\"https://www.sciencedirect.com/science/article/abs/pii/0893608089900208\">link</a>.<P>\n",
    "<p style=\"text-align: center\"><img src=\"pics/milestones.png\" alt=\"Bild\" style=\"height: 600px; width: 1000px;\"><br>Quelle: \"Partial differential equations meet deep neural networks: A survey\". ArXiv, abs/2211.05567, 2022.</p><br>\n",
    "Die mathematische Begründung für die Verwendung von MLPs als Approximatoren zur Lösung von (P)DEs besteht in der Tatsache, dass stetige Funktionen mit beliebiger Genauigkeit durch ein mehrschichtiges Perzeptron approximiert werden können. Genauer gesagt, mit:\n",
    "$$\\mathcal{M}(\\sigma) := span\\left\\{\\sigma(<\\underline{w}|\\underline{x}>-\\Theta) \\,| \\, \\Theta \\in \\mathbb{R}, \\, \\underline{w}\\in \\mathbb{R}^n\\right \\}$$\n",
    "gilt das folgende Theorem (<a href=\"https://www.cambridge.org/core/journals/acta-numerica/article/abs/approximation-theory-of-the-mlp-model-in-neural-networks/18072C558C8410C4F92A82BCC8FC8CF9\">\"Approximation theory of the MLP model in neural networks\"</a>):<P><HR>\n",
    "<CENTER>Sei $\\sigma \\in \\mathcal{C}(\\mathbb{R})$, dann liegt $\\mathcal{M}(\\sigma)$ dicht in $\\mathcal{C}(\\mathbb{R}^n)$ in Bezug auf die Topologie der gleichmässigen Konvergenz auf Kompakta, genau dann, wenn $\\sigma$ kein Polynom ist. </CENTER><P><HR>\n",
    "Das bedeutet, dass für jedes geeignete $\\sigma$ gilt:<P>\n",
    "<CENTER>Für jedes $f \\in \\mathcal{C}(\\mathbb{R^n})$ und jede kompakte Menge $K$ sowie $\\epsilon > 0$ existiert ein $g \\in \\mathcal{M}(\\sigma)$, so dass gilt: $\\max\\limits_{\\underline{x}\\in K} |f(\\underline{x})-g(\\underline{x})|< \\epsilon$</CENTER><P>\n",
    "<strong>Das bedeutet konkret, dass sich jede stetige Funktion beliebig genau durch ein MLP annähern lässt !!!</strong><P>\n",
    "$\\sigma$ ist gerade das, was in der Terminologie der neuronalen Netze auch als Aktivierungsfunktion bekannt ist. Dabei handelt es sich in der Regel ja um eine nicht-polynomiale Funktion. MLPs sind bekanntlich differenzierbar in Bezug auf ihre Gewichte $\\underline{w}$ und Biases $\\Theta$. Dies wird ja gerade beim überwachten Lernen in Form von Backpropagation genutzt. Die Ausgabe des MLP wird mit Hilfe einer Verlustfunktion mit der Zielausgabe verglichen, und letztere wird dann in Bezug auf die Freiheitsgrade des MLP (Gewichte und Biases) differenziert. Die Differentiation kann aber nicht nur nach den internen Freiheitsgraden erfolgen, sondern, wie wir auch bereits gesehen haben, auch in Bezug auf die Eingabewerte bzw. Neuronen. Dies kann sogar bis zu einer beliebigen Ordnung geschehen. Auf diese Weise kann ein entsprechend konfiguriertes MLP in eine gegebene (P)DE eingefügt und die Abweichung von Null mittels einer Verlustfunktion interpretiert werden. Auf diese Weise kann das Netz so trainiert werden, dass es ein gegebenes (P)DE näherungsweise löst. Dies soll nun zunächst schematisch (entnommen aus <a href=\"https://www.researchgate.net/publication/351814752_Physics-informed_machine_learning\">Quelle</a>) und später anhand konkreter Beispiele illustriert werden.<P>\n",
    "ben ist die Burgers'sche Gleichung:<P>\n",
    "$$\\frac{\\partial u}{\\partial t}+u \\, \\frac{\\partial u}{\\partial x} = \\nu \\, \\frac{\\partial^2 u}{\\partial x^2}$$\n",
    "mit einer geeigneten Anfangsbedingung und Dirichlet-Randbedingungen. $\\nu$ ist eine gegebene Konstante. Die nächste Abbildung zeigt die Darstellung mittels MLP.<P><P>\n",
    "<p style=\"text-align: center\"><img src=\"pics/pinn.png\" alt=\"Bild\" style=\"height: 600px; width: 1000px;\"><br><a href=\"https://www.researchgate.net/publication/351814752_Physics-informed_machine_learning\">Quelle<a></p><br>\n",
    "Die Loss-Funktion ist hierbei wie folgt definiert:<P>\n",
    "<p style=\"text-align: center\"><img src=\"pics/Loss-Function-PINN.png\" alt=\"Bild\" style=\"height: 400px; width: 800px;\"><P>\n",
    "Sie besteht aus einzelnen Verlustfunktionen, die jeweils die Abweichungen zwischen der Approximation mittels MLP und den vorgegebenen Werten zum Anfangszeitpunkt oder am Rand quantifizieren. Darüber hinaus werden Fehler in der Erfüllung der Burgers'schen Gleichung selbst berücksichtigt, indem beliebige Werte aus der gesamten Domain gezogen werden. Der Einfluss der verschiedenen Verlustfunktionen kann durch Gewichte berücksichtigt werden. Bis zu diesem Punkt sind PINNs lediglich eine andere Form der numerischen Lösung von (P)DEs. Ihre Besonderheit und insbesondere ihr Alleinstellungsmerkmal gegenüber anderen etablierten Verfahren, wie der Finite-Differenzen-Methode (FDM) oder der Finite-Elemente-Methode (FEM), besteht darin, dass analog zu den Anfangs- und Randwerten auch andere Werte aus dem gesamten Gebiet in Form einer zusätzlichen Verlustfunktion berücksichtigt werden können. Dies eröffnet die Möglichkeit, Messwerte direkt in den numerischen Lösungsprozess einfließen zu lassen. Darin liegt nach Ansicht dieses Autors der tiefere Grund für den Begriff „physics informed“, weil auf diese Weise das theoretische Modell direkt mit dem Experiment gekoppelt werden kann. Eine Reihe von anschaulichen und beeindruckenden Beispielen finden Sie in (<a href=\"https://www.researchgate.net/publication/351814752_Physics-informed_machine_learning\">Beispiel1</a>, <a href=\"https://www.sciencedirect.com/science/article/abs/pii/S0021999118307125\">Beispiel2</a>, <a href=\"https://arxiv.org/abs/1711.10561\">Beispiel3</a>, <a href=\"https://arxiv.org/abs/1711.10566\">Beispiel4</a>). Diese einzigartige Eigenschaft von PINNs kann auch anhand der folgenden Abbildung veranschaulicht werden. PINNs nehmen eine Art Mittelstellung zwischen Problemen ein, bei denen üblicherweise maschinelles Lernen eingesetzt wird, und solchen, die theoretisch behandelt werden können. Liegt eine umfassende Theorie vor, z.B. in Form einer (partiellen) Differentialgleichung, und sind Anfangs- und Randbedingungen gegeben, können etablierte numerische Methoden eingesetzt werden. Dies entspricht der linken Seite der Abbildung. Probleme, für die es keine Theorie, aber eine große Menge an Daten gibt, sind prädestiniert für die Anwendung von Methoden des maschinellen Lernens wie neuronalen Netzen. Ein typisches Beispiel hierfür war in der Vergangenheit die Entwicklung von Systemen zur Erkennung von Gesichtern in natürlichen Bildern. Diese Probleme befinden sich im rechten Teil der Abbildung. Aber auch Probleme, für die zwar eine theoretische Beschreibung, z.B. in Form von (partiellen) Differentialgleichungen, vorliegt, deren Parameter oder gar Funktionen aber noch nicht bekannt sind, können hier im Zentrum stehen, sofern Messwerte/Beispieldaten vorhanden sind. Mit einem PINN können wir dann die (partielle) Differentialgleichung lösen und parallel die unbekannten Parameter oder Funktionen bestimmen. PINNs bieten somit die Möglichkeit, Theorie und Daten in einem gemeinsamen Modell zu berücksichtigen.\n",
    "<p style=\"text-align: center\"><img src=\"pics/NNversusSimulation.png\" alt=\"Bild\" style=\"height: 400px; width: 800px;\"><br><a href=\"https://www.researchgate.net/publication/351814752_Physics-informed_machine_learning\">Quelle<a></p><br><P>\n",
    "Nach <a href=\"https://www.researchgate.net/publication/351814752_Physics-informed_machine_learning\">Quelle</a> kann das theoretische Wissen auf drei verschiedene Arten berücksichtigt werden. Die erste ist der so genannte <strong>Observational Bias</strong>. Hier werden physikalische Korrelationen implizit über die zum Training verwendeten Daten in den Lernprozess eingebracht. Symmetrien des zugrunde liegenden Problems spiegeln sich unweigerlich in den Daten wider. Der zweite Weg ist das, was sie als <strong>Inductive Bias</strong> bezeichnen. Hier werden physikalische Beziehungen und Zwänge direkt in die Struktur des neuronalen Netzes implementiert. Diese Form ist die strengste, aber auch die am schwierigsten zu realisierende.Ein Beispiel hierfür findet sich etwa in <a href=\"https://arxiv.org/abs/1909.00912\">Quelle</a>. Eine Analogie im Bereich des maschinellen Lernens ist z.B. die Realisierung von so genannten Faltungsnetzen, die von ihrer Architektur her translationsinvariant ausgelegt sind. Die dritte und letzte Methode bezeichnen die Autoren mit dem Begriff <strong>Learning Bias</strong>. Hier wird, wie bereits oben am Beispiel gezeigt, die Physik in Form von Verlustfunktionen in den Trainingsprozess eingebracht. Auf diese Weise kann eine Vielzahl von Problemen adressiert werden. Diese auch als soft penalty constraints bezeichneten Bedingungen können jedoch nur näherungsweise erfüllt werden. Die generelle Idee des „learning bias“ wurde, wie bereits erwähnt, schon in den späten 1980er Jahren vorgeschlagen.<P>\n",
    "<p style=\"text-align: center\"><img src=\"pics/theoryNN.png\" alt=\"Bild\" style=\"height: 500px; width: 600px;\"><br><a href=\"https://www.researchgate.net/publication/351814752_Physics-informed_machine_learning\">Quelle<a></p><br><P>\n",
    "\n"
   ]
  },
  {
   "cell_type": "markdown",
   "id": "fa856e75-f081-4cc9-9cac-05597e00047d",
   "metadata": {},
   "source": [
    "<a id=\"s6\"></a><h4 style=\"color:rgb(127,203,223)\">6.5.1 Ein Randwertproblem - PINN</h4>"
   ]
  },
  {
   "cell_type": "code",
   "execution_count": null,
   "id": "dd5a02d4-aa7e-4e86-aef2-03229b47ea77",
   "metadata": {},
   "outputs": [],
   "source": [
    "import numpy as np\n",
    "import tensorflow as tf\n",
    "#import tensorflow_probability as tfp\n",
    "import matplotlib.pyplot as plt\n",
    "\n",
    "######################################################################################################\n",
    "# Using PINN for solving boundary value problem using the following example                          #\n",
    "#                                                                                                    #\n",
    "#           d^2w_dx^2 + 2 w(x) = cos(x)^2 with w(0)=1 and w'(pi)=0                                   #\n",
    "#                                                                                                    #\n",
    "#           Symbolic Solution: w(x) = 0.5 sin(x)^2 +cos(sqrt(2) x) + tan(sqrt(2) pi) sin(sqrt(2) x)  #                                    #\n",
    "#                                                                                                    #\n",
    "######################################################################################################\n",
    "tf.keras.backend.set_floatx('float64')\n",
    "\n",
    "def generate_samples_domain(num_domain=10, lower_bound=0.0, upper_bound=3.1415926):\n",
    "    domain_samples = tf.random_uniform_initializer(minval=lower_bound, maxval=upper_bound, seed=0)\n",
    "    \n",
    "    return tf.Variable(tf.cast(domain_samples(shape=[num_domain,1]),tf.float64))\n",
    "\n",
    "def diff2(tape, w, x):\n",
    "    dw_dx   = tape.gradient(w,x)\n",
    "    d2w_dx2 = tape.gradient(dw_dx,x) \n",
    "\n",
    "    return d2w_dx2\n",
    "\n",
    "def diff(tape, w, x):\n",
    "    dw_dx = tape.gradient(w,x)\n",
    "\n",
    "    return dw_dx\n",
    "\n",
    "def bvp(tape, w, x):\n",
    "    bvp = diff2(tape,w,x)+2.0*w-tf.square(tf.cos(x))\n",
    "\n",
    "    return bvp\n",
    "\n",
    "def create_model():\n",
    "    num_inputs  = 1\n",
    "    num_outputs = 1\n",
    "    activation  = 'tanh'\n",
    "\n",
    "    model = tf.keras.Sequential([\n",
    "    tf.keras.layers.Input(shape=(num_inputs,),dtype=tf.float64),\n",
    "    tf.keras.layers.Dense(units=20,activation='tanh',dtype=tf.float64),\n",
    "    tf.keras.layers.Dense(units=20,activation='tanh',dtype=tf.float64),\n",
    "    tf.keras.layers.Dense(units=20,activation='tanh',dtype=tf.float64),        \n",
    "    tf.keras.layers.Dense(units=num_outputs,activation='linear', use_bias=False,dtype=tf.float64)\n",
    "    ])\n",
    "\n",
    "    return model\n",
    "\n",
    "epochs = 8000\n",
    "lr     = 0.0005\n",
    "\n",
    "model = create_model()\n",
    "model.summary()\n",
    "\n",
    "initial_learning_rate = 0.0005\n",
    "lr_schedule = tf.keras.optimizers.schedules.ExponentialDecay(initial_learning_rate,decay_steps=2000,decay_rate=0.8,staircase=True)\n",
    "optimizer = tf.keras.optimizers.legacy.Adam(learning_rate=lr_schedule)\n",
    "\n",
    "x = generate_samples_domain(num_domain=40)\n",
    "bcl = 1.0\n",
    "bcr = 0.0\n",
    "\n",
    "x_bcl = tf.constant(tf.cast(0.0,tf.float64), shape=[1,1])\n",
    "x_bcr = tf.constant(tf.cast(3.1415926, tf.float64),shape=[1,1])\n",
    "\n",
    "\n",
    "for i in range(epochs+1):\n",
    "    with tf.GradientTape(persistent=True) as tape_model:\n",
    "        with tf.GradientTape(persistent=True) as tape_de:\n",
    "            tape_de.watch(x)\n",
    "            tape_de.watch(x_bcr)\n",
    "            tape_de.watch(x_bcl)\n",
    "            w            = model(x,training=True)            \n",
    "            dw2_dx2      = diff2(tape_de, w, x)\n",
    "            w_bcl        = model(x_bcl,training=True)\n",
    "            dw_dx_bcr    = diff(tape_de,model(x_bcr, training=True),x_bcr)\n",
    "            \n",
    "            bcl_error    = w_bcl - bcl\n",
    "            bcr_error    = dw_dx_bcr - bcr\n",
    "            domain_error = bvp(tape_de, w, x) \n",
    "\n",
    "        domain_mse  = tf.math.reduce_mean(tf.math.square(domain_error), axis=0)\n",
    "        bcl_mse     = tf.reduce_mean(tf.math.square(bcl_error), axis=0)\n",
    "        bcr_mse     = tf.reduce_mean(tf.math.square(bcr_error), axis=0)\n",
    "        \n",
    "        total_mse  = domain_mse + bcl_mse + bcr_mse\n",
    "\n",
    "        if i % 1000 == 0:\n",
    "            print('Epoch: {}\\t MSE Loss = {}'.format(i, total_mse.numpy()[0]))\n",
    "\n",
    "    model_update_gradients = tape_model.gradient(total_mse, model.trainable_variables)\n",
    "    optimizer.apply_gradients(zip(model_update_gradients, model.trainable_variables))\n",
    "\n",
    "\n",
    "x = np.linspace(0.0, np.pi, 100)\n",
    "res = model.predict(x)\n",
    "plt.figure()\n",
    "plt.plot(x, np.sin(x)**2/2.0+np.cos(np.sqrt(2)*x)+np.tan(np.sqrt(2)*np.pi)*np.sin(np.sqrt(2)*x),linewidth=3,c='blue')\n",
    "plt.plot(x, res, linestyle='--', linewidth=3, c='red')\n",
    "plt.show()"
   ]
  },
  {
   "cell_type": "markdown",
   "id": "61760d66-c9c7-476e-836e-3546ee93fbf7",
   "metadata": {},
   "source": [
    "<a id=\"s7\"></a><h4 style=\"color:rgb(127,203,223)\">6.5.2 Eine Integro-Differentialgleichung - PINN</h4>"
   ]
  },
  {
   "cell_type": "code",
   "execution_count": null,
   "id": "40d28e71-df5c-44fd-80e1-8541250ee146",
   "metadata": {},
   "outputs": [],
   "source": [
    "import numpy as np\n",
    "import tensorflow as tf\n",
    "#import tensorflow_probability as tfp\n",
    "import matplotlib.pyplot as plt\n",
    "\n",
    "###########################################################################################\n",
    "# Using PINN for solving integro-differential equation using the following example        #\n",
    "#                                                                                         #\n",
    "#           du_dt + 2 u(t) + 5 int_0^t u(x) dx = 1 for t>0 and u(0) = 0                   #\n",
    "#                                                                                         #\n",
    "#           Symbolic Solution: u(t) = 0.5 exp(-t) sin(2t)                                 #\n",
    "#                                                                                         #\n",
    "###########################################################################################\n",
    "tf.keras.backend.set_floatx('float64')\n",
    "initial_value = 0\n",
    "\n",
    "def generate_samples_domain(num_domain=10, lower_bound=0.0, upper_bound=2.0):\n",
    "    domain_samples = tf.random_uniform_initializer(minval=lower_bound, maxval=upper_bound, seed=0)\n",
    "    \n",
    "    return tf.Variable(tf.cast(domain_samples(shape=[num_domain,1]),tf.float64))\n",
    "\n",
    "def diff(tape, u, t):\n",
    "    return tf.reshape(tape.gradient(u,t), [t.shape[0],1])\n",
    "\n",
    "def integral(x, u_int):\n",
    "    int_u = tfp.math.trapz(tf.transpose(u_int), tf.transpose(x))\n",
    "    int_u = tf.reshape(int_u, [u_int.shape[1],1])\n",
    "    return int_u\n",
    "\n",
    "def de(tape, u, t, x, u_int):\n",
    "    return (diff(tape,u,t)+2.0*u+5.0*integral(x, u_int)-1.0)\n",
    "\n",
    "def ic(t):\n",
    "    return 0.0\n",
    "\n",
    "def create_model():\n",
    "    num_inputs  = 1\n",
    "    num_outputs = 1\n",
    "    activation  = 'tanh'\n",
    "\n",
    "    model = tf.keras.Sequential([\n",
    "    tf.keras.layers.Input(shape=(num_inputs,),dtype=tf.float64),\n",
    "    tf.keras.layers.Dense(units=16,activation='tanh',dtype=tf.float64),\n",
    "    tf.keras.layers.Dense(units=16,activation='tanh',dtype=tf.float64),\n",
    "    tf.keras.layers.Dense(units=16,activation='tanh',dtype=tf.float64),        \n",
    "    tf.keras.layers.Dense(units=num_outputs,activation='linear', use_bias=False,dtype=tf.float64)\n",
    "    ])\n",
    "\n",
    "    return model\n",
    "\n",
    "\n",
    "epochs = 20000\n",
    "lr     = 0.0005\n",
    "num_support_points = 16\n",
    "\n",
    "model = create_model()\n",
    "model.summary()\n",
    "\n",
    "initial_learning_rate = 0.01\n",
    "lr_schedule = tf.keras.optimizers.schedules.ExponentialDecay(initial_learning_rate,decay_steps=2000,decay_rate=0.8,staircase=True)\n",
    "optimizer = tf.keras.optimizers.legacy.Adam(learning_rate=lr_schedule)\n",
    "\n",
    "# data being used for training\n",
    "t = generate_samples_domain(num_domain=40)\n",
    "x = tf.reshape(tf.linspace(initial_value*tf.ones_like(t),t,num_support_points),[num_support_points, t.shape[0]])\n",
    "t_ic = tf.constant(0.0, shape=[1,1])\n",
    "\n",
    "for i in range(epochs+1):\n",
    "    with tf.GradientTape(persistent=True) as tape_model:\n",
    "        with tf.GradientTape(persistent=True) as tape_de:\n",
    "            tape_de.watch(t)\n",
    "            tape_de.watch(t_ic)\n",
    "            tape_de.watch(x)\n",
    "            u            = model(t,training=True)\n",
    "            u_int        = model(tf.reshape(x,num_support_points*t.shape[0]),training=True)\n",
    "            u_int        = tf.reshape(u_int, [num_support_points, t.shape[0]])\n",
    "            ic_error     = model(t_ic,training=True)[0][0] - ic(t_ic)\n",
    "            domain_error = de(tape_de, u, t, x, u_int) \n",
    "\n",
    "        domain_mse = tf.math.reduce_mean(tf.math.square(domain_error), axis=0)\n",
    "        ic_mse     = tf.math.square(ic_error)\n",
    "        total_mse  = domain_mse + ic_mse\n",
    "\n",
    "        if i % 1000 == 0:\n",
    "            print('Epoch: {}\\t MSE Loss = {}'.format(i, total_mse.numpy()[0]))\n",
    "\n",
    "    model_update_gradients = tape_model.gradient(total_mse, model.trainable_variables)\n",
    "    optimizer.apply_gradients(zip(model_update_gradients, model.trainable_variables))\n",
    "\n",
    "\n",
    "t = np.linspace(0.0, 2.0, 100)\n",
    "res = model.predict(t)\n",
    "plt.figure()\n",
    "plt.plot(t, 0.5* np.exp(-t) * np.sin(2.0*t),linewidth=3,c='blue')\n",
    "plt.plot(t, res, linestyle='--',linewidth=3,c='red')\n",
    "plt.show()"
   ]
  },
  {
   "cell_type": "markdown",
   "id": "2c327f99-b5bd-4d41-8c1d-6bd937aeb6fa",
   "metadata": {},
   "source": [
    "<a id=\"s8\"></a><h4 style=\"color:rgb(127,203,223)\">6.5.3 Some more sophisticated examples - PINN</h4>"
   ]
  },
  {
   "cell_type": "markdown",
   "id": "4a85adda-8313-4e0b-ae0b-03c7c914ab3c",
   "metadata": {},
   "source": [
    "<h5 style=\"color:rgb(127,203,223)\">Navier Stokes Equation 6.5.3.1 (taken from <a href=\"https://arxiv.org/abs/1711.10566\">Quelle</a>)</h5>\n",
    "<p style=\"text-align: center\"><img src=\"pics/NavierStokes-Equations.png\" alt=\"Bild\" style=\"height: 100px; width: 400px;\"><br><br><br><br>\n",
    "<p style=\"text-align: center\"><img src=\"pics/NavierStokes_data.png\" alt=\"Bild\" style=\"height: 700px; width: 800px;\"><P><br><br><br><br>\n",
    "<p style=\"text-align: center\"><img src=\"pics/NavierStokes_prediction.png\" alt=\"Bild\" style=\"height: 700px; width: 900px;\"><P>\n",
    "<HR>\n",
    "<h5 style=\"color:rgb(127,203,223)\">Espresso Cup 6.5.3.2 (taken from <a href=\"https://www.researchgate.net/publication/351814752_Physics-informed_machine_learning\">Quelle</a>)</h5>\n",
    "<p style=\"text-align: center\"><img src=\"pics/EspressoCup.png\" alt=\"Bild\" style=\"height: 1000px; width: 1000px;\"><br><br><br><br>"
   ]
  },
  {
   "cell_type": "markdown",
   "id": "66d7633d-64be-471c-83f9-ff55851e6869",
   "metadata": {
    "tags": []
   },
   "source": [
    "<a id=\"s9\"></a><h3 style=\"color:rgb(127,203,223)\">6.6 Ausblick</h3>"
   ]
  },
  {
   "cell_type": "markdown",
   "id": "1f0796f3-54f7-4fad-a65d-84d5ece00a21",
   "metadata": {
    "tags": []
   },
   "source": [
    "In diesem Kapitel erfolgte eine sehr kurze Einführung in den stetig größer werdenden Komplex des Deep Learning. Anhand eines einfachen Beispiels, welches aufgrund der kleinen Anzahl an Schichten streng genommen gar nicht zu den tiefen neuronalen Netzen gezählt werden kann, wurden einige grundsätzliche Elemente der <i>Convolutional Neural Networks</i> erläutert. Ein <i>tieferes</i> neuronales Netz, das U-Net, wurde dann im Anschluss diskutiert.<br>\n",
    "Tatsächlich ist der Themenbereich des Deep Learning sehr viel umfangreicher und umfasst neben den reinen Feed-Forward-Netzen (die Information fließt während der Berechnung ausschließlich von der Eingabe- zur Ausgabeschicht) insbesondere auch die so genannten rekurrenten Netze, die anders als die Feed-Forward-Netze auch einen Informationsfluss von einer Schicht zur selben oder einer Vorgängerschicht erlauben. Auf diesem Wege ist es insbesondere möglich, Sequenzen zu verarbeiten, weswegen solche Netze bspw. bei der Spracherkennung eine besondere Bedeutung besitzen. In diesem Zusammenhang kann bspw. auf die <a href=\"https://towardsdatascience.com/lstm-networks-a-detailed-explanation-8fae6aefc7f9\"><b>Long Short Term Memory</b></a> verwiesen werden. Auch die Anwendung von tiefen neuronalen Netzen im Kontext des <a href=\"https://wiki.pathmind.com/deep-reinforcement-learning\"><b>Reinforcement Learning</b></a> soll hervorgehoben werden. Für weitere Beispiele verweise ich hier nochmal auf das bereits erwähnte Buch \"Deep Learning\" von Goodfellow et al."
   ]
  },
  {
   "cell_type": "markdown",
   "id": "f7a55a7b-eee3-4a11-a072-302311cdd672",
   "metadata": {},
   "source": [
    "<a id=\"s10\"></a><h3 style=\"color:rgb(127,203,223)\">6.7 Benefits and Risks of AI</h3>"
   ]
  },
  {
   "cell_type": "code",
   "execution_count": null,
   "id": "aeb95fd2-71b2-4708-9c9e-b623a32af3bb",
   "metadata": {},
   "outputs": [],
   "source": [
    "from IPython.display import IFrame\n",
    "IFrame(src='keynote/Benefits_and_Risks_of_AI.pdf', width='1400', height='1000')"
   ]
  },
  {
   "cell_type": "markdown",
   "id": "d4bb4e33-c277-4673-920f-7ba87a7209b2",
   "metadata": {},
   "source": [
    "<H1>Just for keynote demonstration</H1>"
   ]
  },
  {
   "cell_type": "markdown",
   "id": "23dd1fdd-2fd6-407e-8481-82bfbf6f136d",
   "metadata": {},
   "source": [
    "<H2>Create samples from modified random variables</H2>"
   ]
  },
  {
   "cell_type": "code",
   "execution_count": 1,
   "id": "a3d86dd7-7757-40f6-b955-96dad7f75699",
   "metadata": {
    "tags": []
   },
   "outputs": [
    {
     "data": {
      "text/plain": [
       "<Axes: ylabel='Density'>"
      ]
     },
     "execution_count": 1,
     "metadata": {},
     "output_type": "execute_result"
    },
    {
     "data": {
      "image/png": "[encoded data removed]",
      "text/plain": [
       "<Figure size 640x480 with 1 Axes>"
      ]
     },
     "metadata": {},
     "output_type": "display_data"
    }
   ],
   "source": [
    "import numpy as np\n",
    "from seaborn import kdeplot\n",
    "\n",
    "l=2\n",
    "rv1 = np.random.uniform(low=0.0, high=1.0, size=20000)\n",
    "kdeplot(rv1)\n",
    "rv2=-1/l*np.log(1-rv1)\n",
    "kdeplot(rv2)\n"
   ]
  },
  {
   "cell_type": "markdown",
   "id": "9aa424b9-3988-434b-9c7b-45e7b5c10bde",
   "metadata": {},
   "source": [
    "<H2>Using VAE for modifying faces</H2>"
   ]
  },
  {
   "cell_type": "markdown",
   "id": "94c9e9ed-2d94-4311-a0ec-743fb7bcf704",
   "metadata": {
    "tags": []
   },
   "source": [
    "<A href=\"https://www.youtube.com/watch?v=uszj2MOLY08\">VAE-Face-Generator</A>"
   ]
  }
 ],
 "metadata": {
  "kernelspec": {
   "display_name": "python3.11",
   "language": "python",
   "name": "python3.11"
  },
  "language_info": {
   "codemirror_mode": {
    "name": "ipython",
    "version": 3
   },
   "file_extension": ".py",
   "mimetype": "text/x-python",
   "name": "python",
   "nbconvert_exporter": "python",
   "pygments_lexer": "ipython3",
   "version": "3.11.6"
  }
 },
 "nbformat": 4,
 "nbformat_minor": 5
}
