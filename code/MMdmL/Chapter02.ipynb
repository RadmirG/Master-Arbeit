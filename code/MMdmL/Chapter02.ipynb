{
 "cells": [
  {
   "cell_type": "markdown",
   "id": "edf4b16d-c87f-4171-ae38-00db23f25d09",
   "metadata": {
    "tags": []
   },
   "source": [
    "<a id=\"s0\"></a><h2 style=\"color:rgb(127,203,223)\"> 2. Grundlagen</h2>"
   ]
  },
  {
   "cell_type": "markdown",
   "id": "70e93540-21f4-4611-8867-2017ffa08525",
   "metadata": {
    "tags": []
   },
   "source": [
    "<a id=\"s1\"></a><h3 style=\"color:rgb(127,203,223)\">2.1 Machine Learning versus Artificial Intelligence</h3>"
   ]
  },
  {
   "cell_type": "markdown",
   "id": "8ed0c99d-15c8-4f97-b8ef-7c1a7b54eceb",
   "metadata": {
    "tags": []
   },
   "source": [
    "Die Begriffe Machine Learning (ML) und Artificial Intelligence (AI), zu Deutsch künstliche Intelligenz (KI), werden häufig synonym verwendet wenngleich Machine Learning tatsächlich nur einen, wenngleich auch sehr wichtigen, Teilaspekt des AI ausmacht. Eine genaue Definition des Begriffes AI ist tatsächlich nicht trivial. Dies liegt unter anderem daran, dass es schon für den Begriff der Intelligenz, bezogen auf Lebewesen, keine einheitliche Definition bzw. Metrik gibt. Im Folgenden werden einige <it>Definitionsvarianten</it> angegeben: \n",
    "<ul> \n",
    "    <li>AI is the science and engineering of making intelligent machines, especially intelligent computer programs. It is related to the similar task of\n",
    "using computers to understand human intelligence, but AI does not have to\n",
    "        confine itself to methods that are biologically observable. [<b>John McCarthy</b>]</li>\n",
    "    <li>Künstliche Intelligenz ist die Eigenschaft eines IT-Systems, »menschenähnliche«, intelligente Verhaltensweisen zu zeigen [<b>Bitcom e.V. und Deutsches Forschungszentrum für künstliche Intelligenz</b>]</li>\n",
    "    <li>Die künstliche Intelligenz [...] ist ein Teilgebiet der Informatik, welches sich mit der Erforschung von Mechanismen des intelligenten menschlichen Verhaltens befaßt [...] [<b>Spektrum der Wissenschaft, Lexikon der Neurowissenschaften</b>]</li>\n",
    "    <li>Unter künstlicher Intelligenz (KI) verstehen wir Technologien, die menschliche Fähigkeiten im Sehen, Hören, Analysieren, Entscheiden und Handeln ergänzen und stärken. [<b>Microsoft Corporation</b>]</li>\n",
    "    <li>Künstliche Intelligenz ist die Fähigkeit einer Maschine, menschliche Fähigkeiten wie logisches Denken, Lernen, Planen und Kreativität zu imitieren.“ [<b>Europäisches Parlament</b>]</li>\n",
    "    <li>Die künstliche Intelligenz ist ein Versuch, kognitive Prozesse mit Hilfe von Computerprogrammen und anderen informationsverarbeitenden Systemen zu untersuchen [<b>Neurowissenschaften, Eric R. Kandel</b>]</li>\n",
    "    </ul>\n",
    "    \n",
    "AI ist tatsächlich keine neue wissenschaftliche Disziplin. Alan Turing, ein Pionier auf dem Gebiet der Informatik, hat bspw. bereits 1950 in dem Artikel <i>Computing Machinery and Intelligence</i> einen maßgeblichen Beitrag zu diesem Themenbereich geleistet. Tatsächlich beschreibt Alan Turing hier das Konzept des später nach ihm benannten Turing-Tests. Turing selbst sprach noch von dem <i>Imitation Game</i>. In diesem soll ein Mensch A über ein Terminal mit zwei andern Entitäten kommunizieren. Eine der Beiden ist ein Mensch (B), die andere eine Maschine (C). Kann A nicht unterscheiden, wer die Maschine und wer der Mensch ist, gilt der Turing-Test als bestanden. Auf diesem Wege sollte der Nachweis erbracht werden, dass die Maschine über kognitive Fähigkeiten verfügt, die denen eines Menschen entsprechen. Ob diese Fähigkeit dann wirklich vorhanden sind oder nur simuliert werden, lässt sich mit diesem Test jedoch nicht entscheiden.<br>\n",
    "<p style=\"text-align: center\"><img src=\"pics/TuringTest.png\" style=\"margin-left:auto; margin-right:auto\"/><br></p>\n",
    "John Searle beschrieb dies in seinem Gedankenexperiment des chinesischen Zimmers:<br><br>\n",
    "    <b>Gedankenexperiment nach Searle [Quelle: Wikipedia]</b><br>\n",
    "     <cite>Searle beschrieb einen geschlossenen Raum, in dem sich ein Mensch befindet. Ihm werden durch einen Schlitz in der Tür Zettel mit Geschichten auf Chinesisch zugestellt. Er selbst ist der chinesischen Sprache nicht mächtig und versteht somit weder den Sinn der einzelnen Zeichen noch den Sinn der Geschichte. Danach erhält er noch einen Zettel mit Fragen zu der Geschichte (ebenfalls in chinesischer Notation). Der Mensch findet des Weiteren einen Stapel chinesischer Skripte und ein „Handbuch“ mit Regeln in seiner Muttersprache vor. Die Skripte enthalten Zusatz- und Hintergrundinformationen zu den Geschichten (eine Art „Wissensdatenbank“).[2] Das Handbuch ermöglicht es ihm, die Zeichen mit der Geschichte in Verbindung zu bringen, allerdings ausschließlich auf der Ebene der Zeichenerkennung (über die Form der Zeichen). Auch entnimmt er dem Handbuch Anweisungen, welche Zeichen er (abhängig von den Zeichen der Geschichte, der Skripte und der Fragen) auf den Antwortzettel zu übertragen hat. Er folgt also rein mechanischen Anweisungen und schiebt das Ergebnis (die „Antworten“ auf die Fragen) durch den Türschlitz, ohne die Geschichte oder die Fragen verstanden zu haben. Vor der Tür wartet ein chinesischer Muttersprachler, der die Antwortzettel liest. Er kommt aufgrund des Sinngehaltes der Antworten zu dem Ergebnis, im Raum befinde sich ebenfalls ein Chinesisch sprechender Mensch, der die Geschichte verstanden hat. </cite><br>\n",
    "     Der Begriff der künstlichen Intelligenz lässt sich grob in zwei Kategorien einteilen:<br>\n",
    "<ul>\n",
    "    <li> Schwache KI (weak AI)</li>\n",
    "    <li> Starke KI (strong AI)</li>\n",
    "</ul>    \n",
    "\n",
    "<cite><b>Schwache KI</b> sind Systeme, die kognitive Fähigkeiten ersetzen können, die bislang als rein menschliche Fähigkeiten galten und so vorab definierte Aufgaben lösen. Beispiele dafür sind Systeme, die Bilder erkennen oder gesprochene Sprache in Text umwandeln können. <b>[Quelle: Microsoft]</b></cite><br>Hierunter können wir bspw. Systeme verstehen, die in der Lage sind, Objekte auf Bildern zu detektieren bzw. zu erkennen. Auch die Spracherkennung, wie wir sie bspw. von Systemen von Google und Amazon kennen, zählen dazu.<br>\n",
    "<cite><b>Starke KI</b> sind Systeme, die menschliche Fähigkeiten in unterschiedlichen Punkten erreichen oder sogar übersteigen. Das System findet eigene Probleme und untersucht diese systematisch, um zu einer Lösung dafür zu gelangen.</cite><b>[Quelle: Microsoft]</b><br> \n",
    "Systeme, die zur Kategorie der starken KI gezählt werden könnten, sind bisher jedoch noch nicht entwickelt worden. <u>All das, was im Rahmen dieser Lehrveranstaltung behandelt werden wird, zählt also lediglich zur schwachen KI!</u><br>\n",
    "---\n",
    "Eine weitere Unterteilung des Begriffes der künstlichen Intelligenz bezieht sich auf den jeweiligen Zugang. Hier unterscheiden wir zwischen \n",
    "<ul>\n",
    "    <li>symbolische KI (symbolic AI)</li> \n",
    "    <li>subsymbolische KI (subsymbolic AI)</li>\n",
    "</ul>\n",
    "Während die symbolische KI bis zu ca. den Achtzigern des vergangenen Jahrhunderts den Bereich der KI dominierte, steht seitdem eher die subsymbolische KI im Zentrum, die insbesondere nach dem Aufstieg des <i>Deep Learning</i> rapide an Bedeutung gewonnen hat. Wir können hier den subsymbolischen Ansatz auch als Bottom-Up und den symbolischen Ansatz als Top-Down interpretieren. Das maschinelle Lernen kann hier der subsymbolischen KI zugeordnet werden. Auch wenn ausschließlich diese im Fokus dieser Lehrveranstaltung steht, so soll doch ein Beispiel für die symbolische KI zumindest kurz vorgestellt werden.\n",
    "<p style=\"text-align: center\"><img src=\"pics/AI.jpg\" alt=\"Bild\" style=\"height: 220px; width: 300px;\"><br></p><br>\n",
    "Wie die Bezeichnung bereits suggeriert, verwenden die diesem Bereich zugehörigen Methoden (durch den Menschen einfach zu interpretierende) High-Level-Symbole zur Beschreibung von Problemen und verwenden logische Programmierung um basierend auf Fakten sowie Regeln Aussagen und Antworten bzgl. gestellter Probleme ableiten zu können. In diesem Zusammenhang haben die Programmiersprachen <i>Prolog</i> sowie <i>LISP</i> eine entscheidende Rolle gespielt. Anbei einige einfache Beispiele in <b>pylog</b> einer Python-Implementierung von Teilen der Programmiersprache Prolog:"
   ]
  },
  {
   "cell_type": "markdown",
   "id": "ade23362-abae-49b4-afc7-d09291853d1e",
   "metadata": {
    "tags": []
   },
   "source": [
    "<h4>2.1.1 Ein Beispiel in Prolog</h4>\n",
    "Basiert auf einem Beispiel von <a href=\"https://www.cpp.edu/~jrfisher/www/prolog_tutorial/2_1.html\">John R. Fisher</a>. Hier sollen planare benachbarte Regionen so eingefärbt werden, dass keine zwei Farben aneinandergrenzen. Siehe auch <a href=\"https://de.wikipedia.org/wiki/Vier-Farben-Satz\">Vier-Farben-Satz</a>. Gegeben sei das folgende Beispiel, das wir gleichzeitig auch als Graph darstellen können, um die gemeinsamen Grenzen zwischen den Regionen, so vorhanden, darzustellen:<br>\n",
    "<p style=\"text-align: center\"><img src=\"pics/prolog1.gif\" alt=\"Bild\" style=\"height: 220px; width: 300px;\"><br></p><br>\n",
    "<p style=\"text-align: center\"><img src=\"pics/prolog2.gif\" alt=\"Bild\" style=\"height: 220px; width: 300px;\"><br></p><br>\n"
   ]
  },
  {
   "cell_type": "code",
   "execution_count": 1,
   "id": "b6e2667b-18c6-4a3b-b3ca-41a668271dc0",
   "metadata": {
    "tags": []
   },
   "outputs": [
    {
     "name": "stdout",
     "output_type": "stream",
     "text": [
      "/Volumes/Beuth-Hochschule/Lectures/Modules/MAT ML/Jupyter/Notebooks/MMdmL\n",
      "True\n",
      "False\n",
      "True\n"
     ]
    }
   ],
   "source": [
    "# git clone https://github.com/photonlines/Python-Prolog-Interpreter.git\n",
    "import os\n",
    "import sys\n",
    "print(os.getcwd())\n",
    "os.chdir('code/Prolog')\n",
    "from prologpy.solver import Solver\n",
    "\n",
    "rules = 'adjacent(1,2). adjacent(2,1). adjacent(1,3). adjacent(3,1). adjacent(1,4). adjacent(4,1). adjacent(1,5). adjacent(5,1). adjacent(2,3). adjacent(3,2). adjacent(2,4). adjacent(4,2). adjacent(3,4). adjacent(4,3). adjacent(4,5). adjacent(5,4).' \n",
    "coloring = 'color(1,red,a). color(1,red,b). color(2,blue,a). color(2,blue,b). color(3,green,a). color(3,green,b). color(4,yellow,a). color(4,blue,b). color(5,blue,a). color(5,green,b).' \n",
    "conflict_def_1 = 'conflict(Coloring) :- adjacent(X,Y), color(X,Color,Coloring), color(Y,Color,Coloring).' \n",
    "conflict_def_2 = 'conflict(R1,R2,Coloring) :- adjacent(R1,R2), color(R1,Color,Coloring), color(R2,Color,Coloring).'    \n",
    "\n",
    "# initialise rules and functions\n",
    "solver = Solver(rules + coloring + conflict_def_1 + conflict_def_2)\n",
    "\n",
    "# ask for conflicts\n",
    "print(solver.find_solutions('conflict(b)'))\n",
    "print(solver.find_solutions('conflict(1,2,a)'))\n",
    "print(solver.find_solutions('conflict(2,4,b)'))\n",
    "\n"
   ]
  },
  {
   "cell_type": "markdown",
   "id": "615f9ece-09ff-4011-a3c0-1d6546e60b64",
   "metadata": {
    "tags": []
   },
   "source": [
    "Wir wollen uns nun jedoch ausschließlich mit der Domäne des maschinellen Lernens beschäftigen. Die entsprechenden Algorithmen lassen sich grob in die folgenden drei Klassen unterteilen:<br>\n",
    "<ul>\n",
    "    <li>Überwachtes Lernen (supervised learning)</li>\n",
    "    <li>Unüberwachtes Lernen (unsupervised learning)</li>\n",
    "    <li>Bestärkendes Lernen (reinforcement learning)</li>\n",
    "</ul>    \n",
    "\n",
    "Wir wollen auch hier eine weitere Einschränkung vornehmen und uns im Rahmen dieser Lehrveranstaltung nur mit Verfahren aus den ersten beiden Klassen beschäftigen. Gerade ob der zunehmenden Bedeutung des <i>reinforcement learning</i> soll jedoch zumindest ein kurzer Einblick gegeben werden.<br> \n",
    "Hierbei sei zunächst der Begriff des <i>Markow-Entscheidungsproblems</i> eingeführt."
   ]
  },
  {
   "cell_type": "code",
   "execution_count": 2,
   "id": "2dfe4f43-b67e-44f6-8522-337aec556fb5",
   "metadata": {
    "tags": []
   },
   "outputs": [
    {
     "data": {
      "text/html": [
       "\n",
       "        <iframe\n",
       "            width=\"1024\"\n",
       "            height=\"1600\"\n",
       "            src=\"https://de.wikipedia.org/wiki/Markow-Entscheidungsproblem\"\n",
       "            frameborder=\"0\"\n",
       "            allowfullscreen\n",
       "            \n",
       "        ></iframe>\n",
       "        "
      ],
      "text/plain": [
       "<IPython.lib.display.IFrame at 0x120eee950>"
      ]
     },
     "execution_count": 2,
     "metadata": {},
     "output_type": "execute_result"
    }
   ],
   "source": [
    "from IPython.display import IFrame\n",
    "IFrame(src='https://de.wikipedia.org/wiki/Markow-Entscheidungsproblem', width='1024', height='1600')"
   ]
  },
  {
   "cell_type": "markdown",
   "id": "66930ac3-b46b-4ef1-a8f7-54c34e606de6",
   "metadata": {},
   "source": [
    "Beim reinforcement learning interagiert eine Entität, die man üblicherweise als Agent bezeichnet, mit einer Umgebung. Der Agent kann verschiedene Zustände einnehmen und zwischen diesen durch die Ausführung von Aktionen wechseln. Eine Aktion hat dabei jedoch auch stets einen Einfluss auf die Umgebung. Der Agent sucht nun eine Strategie (policy), die es ihm ermöglicht, eine von außen vorgebene Belohnung zu maximieren. Durch <i>trial and error</i> kann der Agent seine Strategie schrittweise verbessern. Im folgenden soll dies an einem einfachen Beispiel von <b>Google Deepmind</b> erläutert werden.<br>"
   ]
  },
  {
   "cell_type": "code",
   "execution_count": 1,
   "id": "4069d711-6d98-4707-9f18-6f60c0f5acf7",
   "metadata": {},
   "outputs": [
    {
     "data": {
      "image/jpeg": "[encoded data removed]",
      "text/html": [
       "\n",
       "        <iframe\n",
       "            width=\"400\"\n",
       "            height=\"300\"\n",
       "            src=\"https://www.youtube.com/embed/V1eYniJ0Rnk\"\n",
       "            frameborder=\"0\"\n",
       "            allowfullscreen\n",
       "            \n",
       "        ></iframe>\n",
       "        "
      ],
      "text/plain": [
       "<IPython.lib.display.YouTubeVideo at 0x105478910>"
      ]
     },
     "metadata": {},
     "output_type": "display_data"
    }
   ],
   "source": [
    "# Video aus der Seite: https://www.youtube.com/watch?v=V1eYniJ0Rnk\n",
    "from IPython.display import YouTubeVideo\n",
    "\n",
    "# create an instance of YouTubeVideo class with provided youtube video id.\n",
    "\n",
    "youtube_video = YouTubeVideo('V1eYniJ0Rnk')\n",
    "\n",
    "# display youtube video\n",
    "display(youtube_video)\n",
    "\n",
    "\n",
    "\n",
    "\n"
   ]
  },
  {
   "cell_type": "markdown",
   "id": "fd9c9e13-5c62-4089-976c-32c3cc41a8bc",
   "metadata": {},
   "source": [
    "Beim überwachten Lernen werden den Lernverfahren Beispiele in Form von <i>Input-Output</i>-Paaren zur Verfügung gestellt. Das System soll anhand dieser Beispiele lernen, wie der gegebene Input auf den zugehörigen Output abgebildet werden muss. Hierbei soll das <b>Erlernte</b> natürlich möglichst auf neue, im Rahmen des Trainings nicht verwendete, Beispiele anwendbar sein. Diese neuen Beispiele müssen natürlich den gleichen <i>funktionalen</i> Zusammenhängen unterliegen. Algorithmen aus dem Bereich des überwachten Lernens lernen also anhand von Beispielen.\n",
    "<p style=\"text-align: center\"><img src=\"pics/Gluehbirne.jpg\" alt=\"Bild\" style=\"height: 220px; width: 300px;\"><br></p><br>\n",
    "Beim unüberwachten Lernen verfügen die Algorithmen nur über Eingangsdaten, jedoch nicht über etwaige Sollwerte oder verwenden Selbige zumindest nicht. Stattdessen erstellen Algorithmen aus dem Bereich des unüberwachten Lernens ein Modell der Daten, dies kann bspw. im Kontext von Clustering eine Menge von Cluster-Zentren sein, die dann analysiert oder aber für weitere Zwecke verwendet werden können. Auch Verfahren, die versuchen, die Daten in eine einfachere Repräsentation zu überführen, dabei jedoch die für die jeweilige Fragestellung relevanten Inhalte zu erhalten, fallen in diese Klasse. "
   ]
  },
  {
   "cell_type": "markdown",
   "id": "951a29c4-df89-411e-834a-eb9552e95e9c",
   "metadata": {},
   "source": [
    "<a id=\"s2\"></a><h3 style=\"color:rgb(127,203,223)\">2.2 Regression versus Klassifikation</h3>"
   ]
  },
  {
   "cell_type": "markdown",
   "id": "0dd9f615-1f99-4d33-9654-b51cd5eb8fe3",
   "metadata": {
    "tags": []
   },
   "source": [
    "In den in den folgenden Kapiteln behandelten ML-Verfahren unterscheiden wir grundsätzlich zwischen Regressions- und Klassifikationsverfahren. Da es hier leicht zu Verwirrungen kommen kann - siehe auch die Anmerkungen zur Klassifikation mittels Wahrscheinlichkeiten - sollen diese beiden Anwendungsbereiche hier genauer definiert werden.<P>\n",
    "    Regressionsverfahren prädizieren einen <i><b> kontinuierlichen Wert</b></i> basierend auf gegebenen Eingabevariablen. Sie kennen sicherlich schon die lineare Regression aus einer anderen Mathematikvorlesung. Es geht hierbei also darum, eine Abbildung zu \"lernen\", die gegebene Eingabevariablen auf einen Ausgabewert abbildet. Mögliche Ausgaben bei der Regression sind Preise von Gütern, Wahrscheinlichkeiten, Kosten etc.<P>\n",
    "    Bei der Klassifikation geht es ebenfalls darum, eine Abbildung von Eingabevariablen auf Ausgabewerte zu bestimmen. Anders als bei der Regression sind hier die Ausgabewerte jedoch so genannte <i><b>diskrete Kategorien</b></i>. Beispielsweise kann für ein gegebenes Bild festgestellt werden, ob dieses bestimmte Objekte enhält oder nicht. Ginge es bspw. um die Unterscheidung zwischen Bildern, die Hunde oder Katzen zeigen, so hätten wir es mit zwei möglichen Ausprägungen - wir sprechen auch von Labels - zu tun. <P>\n",
    "    Sowohl bei der Regression als auch bei der Klassifikation haben wir es also mit zu \"erlernenden\" Abbildungen zu tun. Die Zielmenge dieser Abbildung entscheidet letztlich, ob es sich um eine Klassifikation oder eine Regression handelt. Verwirrung entsteht bspw. auch daraus, dass es Klassifikationverfahren gibt - wir werden diese noch behandeln - die einen oder mehrere <i>Score(s)</i> ausgeben, die im Intervall [0,1] liegen und als Wahrscheinlichkeit für die jeweilige Klassenzugehörigkeit gedeutet werden kann. Formal handelt es sich dann um eine Regression, da die Ausgabe kontinuierlich ist. Weisen wir dann jedoch dem Bild die Kategorie zu, die den höchsten Wahrscheinlichkeitswert aufweist, so führen wir letztlich doch eine Klassifikation durch.<P>\n",
    "    Wir werden im folgenden Verfahren kennenlernen die entweder zur Regression oder zur Klassifikation oder sogar zu beidem verwendet werden können. "
   ]
  },
  {
   "cell_type": "markdown",
   "id": "854bb233-2fc4-4cb7-abd8-b24fa1001f26",
   "metadata": {
    "tags": []
   },
   "source": [
    "<a id=\"s3\"></a><h4 style=\"color:rgb(127,203,223)\">2.2.1 Regression</h4>"
   ]
  },
  {
   "cell_type": "markdown",
   "id": "febf5c86-adfd-4d18-9d9c-10ac7c5c626e",
   "metadata": {},
   "source": [
    "Wir beginnen mit einigen Beispielen aus dem Bereich der Regression, da Ihnen diese sicherlich schon aus anderen Mathematikvorlesungen bekannt sein dürften.<P>\n",
    "    Bei der linearen Regression haben wir es mit einer oder mehreren Eingabevariablen zu tun, die auf einen Ausgabewert abgebildet werden sollen. Die Linearität bezieht sich dabei - auch hier gibt es immer wieder Verwechselungen - nicht auf die Abhängigkeit der Abbildung von den Eingabevariablen sondern auf deren Abhängigkeit von den zu bestimmenden Parametern. Rekapitulieren wir noch einmal die lineare Regression:<P>\n",
    "    Nehmen wir an, wir unterstellen einen funktionalen Zusammenhang der Form $f(x):=a\\,x+b$ zwischen der Eingabevariable $x$ sowie dem Ausgabewert $y$. Sie haben nun, bspw. aus einer Messung, eine Reihe von Beispiel-Daten (Trainingsdaten) $\\left\\{(x_0,y_0),\\dots,(x_N,y_N)\\right\\}$. Wir brauchen eine Funktion - dieses Konzept, so werden Sie sehen, zieht sich durch das Machine Learning - die die Güte der Approximation beschreibt. Hier kommt häufig der mittlere quadratische Fehler zum Einsatz: $\\frac{1}{N} \\, \\sum\\limits_{n=0}^{N}(y_n-a\\,x_n-b)^2$, den es zu minimieren gilt. Wir haben damit die Regressionsaufgabe in eine Optimierungsaufgabe umgewandelt. Wir können diese Formulierung nun äquivalent ändern und in eine, so werden wir sehen, etwas nützlicheren Form aufschreiben:<P>\n",
    "   Mit $\\underline{\\underline{A}}:=\\left(\\begin{array}{cc}x_0\\,1 \\\\ x_1 \\, 1 \\\\ \\vdots \\\\x_N \\, 1\\end{array}\\right)\\quad$,    $\\underline{x}=\\left(\\begin{array}{c} a \\\\ b \\end{array}\\right) \\text{ und } \\underline{y}=\\left(\\begin{array}{cc}y_0 \\\\ y_1 \\\\ \\vdots \\\\ y_N\\end{array}\\right) \\text{ gilt:}$<P>\n",
    "    $\\frac{1}{N} \\, \\sum\\limits_{n=0}^{N}(y_n-a\\,x_n-b)^2 = \\frac{1}{N}\\,||\\underline{\\underline{A}}\\,\\underline{x}-\\underline{y}||_{2}^{2}$<P>\n",
    "    Die Lösung des Problems ist also gleichbedeutend mit der Minimierung von $||\\underline{\\underline{A}}\\,\\underline{x}-\\underline{y}||_{2}^{2}$ in Bezug auf die unbekannnten Parameter $a,b$. <P>\n",
    "    Wir können diesen Ansatz jedoch direkt auf Polynome höherer Ordnung ausdehnen. Unterstellen wir nun den folgenden funktionalen Zusammenhang zwischen Eingabevariablen und Ausgabewert:<P>\n",
    "    $f(x):=a_0+a_1\\,x+a_2\\,x^2+\\cdots+a_L\\,x^L$<P>\n",
    "    Auch hier wollen wir die Parameter $a_0,\\cdots,a_L$ so bestimmen, dass der mittlere quadratische Fehler minimal wird:<P>\n",
    "    $\\frac{1}{N}\\sum\\limits_{n=0}^{N}(y_n-(a_0+a_1\\,x_n+\\cdots+a_L\\,x_n^L))^2=\\frac{1}{N}\\,||\\underline{\\underline{B}}\\,\\underline{x}-\\underline{y}||_{2}^{2}$<P>\n",
    "    Diesmal jedoch mit den folgenden Größen:<P>\n",
    "    $\\underline{\\underline{B}}:=\\left(\\begin{array}{cc}1 \\quad x_0 \\quad x_0^2 \\quad \\dots \\quad x_0^L \\\\ \\vdots \\\\ 1 \\quad x_N \\quad x_N^2 \\quad \\vdots \\quad x_N^L\\end{array}\\right) \\text{ sowie }\\underline{x}=\\left(\\begin{array}{c} a_0 \\\\ a_1 \\\\ \\vdots \\\\ a_L \\end{array}\\right) \\text{ und } \\underline{y}=\\left(\\begin{array}{cc}y_0 \\\\ y_1 \\\\ \\vdots \\\\ y_N\\end{array}\\right)$<P>\n",
    "    In beiden Fällen ist die Funktion $f$ linear in den Parametern. Hierauf bezieht sich die Bezeichnung der linearen Regression. <b>Ein weiteres Beispiel sowie die Lösung dieses Minimierungsproblems wird in der Vorlesung hergeleitet</b>.\n",
    "    "
   ]
  },
  {
   "cell_type": "code",
   "execution_count": 4,
   "id": "fafe5016-3c2f-4008-922e-73b45a2a2d0d",
   "metadata": {
    "tags": []
   },
   "outputs": [
    {
     "data": {
      "text/html": [
       "\n",
       "        <iframe\n",
       "            width=\"800\"\n",
       "            height=\"600\"\n",
       "            src=\"https://www.geogebra.org/m/gff32nkh\"\n",
       "            frameborder=\"0\"\n",
       "            allowfullscreen\n",
       "            \n",
       "        ></iframe>\n",
       "        "
      ],
      "text/plain": [
       "<IPython.lib.display.IFrame at 0x105497050>"
      ]
     },
     "execution_count": 4,
     "metadata": {},
     "output_type": "execute_result"
    }
   ],
   "source": [
    "from IPython.display import IFrame\n",
    "IFrame(src='https://www.geogebra.org/m/gff32nkh', width=800, height=600)\n"
   ]
  },
  {
   "cell_type": "markdown",
   "id": "24d90a0f-152e-4728-bbc9-9d198d95ba5c",
   "metadata": {},
   "source": [
    "Neben Verfahren der nichtlinearen Regression, die wir noch kennenlernen werden, sollen noch zwei Erweiterungen, die so genannte <b>Ridge-Regression</b> sowie die <b>Lasso-Regression</b> vorgestellt werden. Erste ist auch unter der Bezeichnung <b>Tikhonov-Regularisierung</b> bekannt. Diese Formen der Regression erweitern die zu minimierende Fehlerfunktion, indem zusätzliche Anforderungen an die zu \"erlernenden\" Parameter gestellt werden. Im folgenden sind die beiden Varianten definiert:<p>\n",
    "<b><u>Ridge-Regularisierung</u></b>:<P>\n",
    "    Minimiere $||\\underline{\\underline{A}}\\,\\underline{x}-\\underline{y}||_{2}^{2}+\\lambda \\, ||\\underline{x}||_2^{2}$ mit $\\lambda \\in \\mathbb{R}$<P>\n",
    "<b><u>LASSO-Regularisierung</u></b>:<P>\n",
    "    Minimiere $||\\underline{\\underline{A}}\\,\\underline{x}-\\underline{y}||_{2}^{2}+\\lambda \\, ||\\underline{x}||_1$ mit $\\lambda \\in \\mathbb{R}$<P>    \n",
    "Durch diese zusätzlichen Nebenbedingungen kann eine mögliche Überanpassung des Netzes (Overfitting) reduziert werden.    "
   ]
  },
  {
   "cell_type": "markdown",
   "id": "db410f1c-cea4-4a22-9600-469a1d06cdae",
   "metadata": {},
   "source": [
    "<p style=\"text-align: center\"><img src=\"pics/Exercise.png\" alt=\"Bild\" style=\"height: 220px; width: 300px;\"><br></p><br>\n",
    "Es ist Zeit für ein bisschen Übung ...<P>\n",
    "    Sie sollen unter Verwendung von Python sowie der Bibliothek <i>scikit-learn</i>:\n",
    "<ul>\n",
    "  <li>a) Datenpaare $(x,y)$ gemäß $a\\,x+b+\\epsilon = y$ generieren. Das $\\epsilon$ stellt hierbei einen Fehlerterm dar. Diesen Fehlerterm berechnen Sie mittels normalverteilten Zufallszahlen</li> \n",
    "  <li>b) eine (einfache) lineare Regression basierend auf den unter a) erstellen Daten durchführen</li>  \n",
    "  <li>c) eine Ridge-Regression basierend auf den unter a) erstellen Daten durchführen. Verwenden Sie hierzu die Möglichkeit in Jupyter-Notebook den Parameter $\\lambda$ mittels eines Sliders auswählen zu können</li>\n",
    "  <li>d) eine LASSO-Regression basierend auf den unter a) erstellen Daten durchführen. Verwenden Sie hierzu die Möglichkeit in Jupyter-Notebook den Parameter $\\lambda$ mittels eines Sliders auswählen zu können</li>  \n",
    "</ul>    \n",
    "Varieren Sie jeweils den Paramter $\\lambda$ und untersuchen Sie dessen Einfluss auf das Ergebnis. <b>Was beobachten Sie?</b>    "
   ]
  },
  {
   "cell_type": "code",
   "execution_count": 3,
   "id": "c80e06b3-a7d8-4861-a8a7-00161560f9e2",
   "metadata": {},
   "outputs": [
    {
     "name": "stdout",
     "output_type": "stream",
     "text": [
      "5.062041716442472\n",
      "[2.90404154]\n"
     ]
    },
    {
     "data": {
      "image/png": "[encoded data removed]",
      "text/plain": [
       "<Figure size 640x480 with 1 Axes>"
      ]
     },
     "metadata": {},
     "output_type": "display_data"
    }
   ],
   "source": [
    "# imports\n",
    "from sklearn import linear_model\n",
    "import matplotlib.pyplot as plt\n",
    "import numpy as np\n",
    "from ipywidgets import interactive, fixed\n",
    "\n",
    "def ols(x,y):\n",
    "    reg=linear_model.LinearRegression()\n",
    "    reg.fit(x.reshape((10,1)),y)\n",
    "\n",
    "    # plot results\n",
    "    plt.figure()\n",
    "    plt.title('Linear Regression')\n",
    "    plt.plot(x,y,'o')\n",
    "    plt.plot(x,reg.intercept_+reg.coef_*x)\n",
    "    print(reg.intercept_)\n",
    "    print(reg.coef_)\n",
    "    plt.show()\n",
    "   \n",
    "    \n",
    "# data generation\n",
    "x = np.arange(10)\n",
    "\n",
    "a=3\n",
    "b=5\n",
    "epsilon = np.random.randn(10)\n",
    "y = a*x+b+epsilon\n",
    "\n",
    "\n",
    "# perform actual regression\n",
    "ols(x,y)\n",
    "\n",
    "\n",
    "\n",
    "\n",
    "\n",
    "\n",
    "\n"
   ]
  },
  {
   "cell_type": "code",
   "execution_count": 4,
   "id": "c4b3475e-70c7-4123-b87a-fb904c3c1d11",
   "metadata": {},
   "outputs": [
    {
     "data": {
      "application/vnd.jupyter.widget-view+json": {
       "model_id": "25110d6bbae743bda71897e391fb32f2",
       "version_major": 2,
       "version_minor": 0
      },
      "text/plain": [
       "interactive(children=(FloatSlider(value=0.502, description='l', max=1.0, min=0.005, step=0.001), Output()), _d…"
      ]
     },
     "execution_count": 4,
     "metadata": {},
     "output_type": "execute_result"
    }
   ],
   "source": [
    "%matplotlib inline\n",
    "from sklearn import linear_model\n",
    "import matplotlib.pyplot as plt\n",
    "import numpy as np\n",
    "from ipywidgets import interactive, fixed\n",
    "import ipywidgets as widgets\n",
    "\n",
    "\n",
    "def showPlots(l):\n",
    "    fig,(ax1,ax2) = plt.subplots(2,figsize=(20,18),sharex=True)\n",
    "    ax1.plot(x,y,'o')\n",
    "    ax2.plot(x,y,'o')\n",
    "    \n",
    "    reg1 = ridgels(l)\n",
    "    ax1.plot(x,reg1.intercept_+reg1.coef_[0]*x+reg1.coef_[1]*x**2+reg1.coef_[2]*x**3+reg1.coef_[3]*x**4+reg1.coef_[4]*x**5)\n",
    "    ax1.set_title('Ridge Regression')\n",
    "    \n",
    "    reg2 = lassols(l)\n",
    "    ax2.plot(x,reg2.intercept_+reg2.coef_[0]*x+reg2.coef_[1]*x**2+reg2.coef_[2]*x**3+reg2.coef_[3]*x**4+reg2.coef_[4]*x**5)\n",
    "    ax2.set_title('Lasso Regression')\n",
    "\n",
    "    \n",
    "def ridgels(l):\n",
    "    reg=linear_model.Ridge(alpha=l)\n",
    "    reg.fit(X,y)\n",
    "    coeffs = np.hstack((reg.intercept_,reg.coef_))\n",
    "    print('Ridge Regression')\n",
    "    print(coeffs)\n",
    "    return reg\n",
    "\n",
    "   \n",
    "def lassols(l):\n",
    "    reg=linear_model.Lasso(alpha=l, max_iter=10000)\n",
    "    reg.fit(X,y)\n",
    "    coeffs = np.hstack((reg.intercept_,reg.coef_))\n",
    "    print('Lasso Regression:')\n",
    "    print(coeffs)\n",
    "    return reg\n",
    "    \n",
    "# data generation\n",
    "x = np.arange(0,1,0.1)\n",
    "\n",
    "a=3\n",
    "b=5\n",
    "c=2\n",
    "d=1\n",
    "e=2.5\n",
    "epsilon = 0*np.random.randn(x.shape[0])\n",
    "y = a+b*x+c*x**2+d*x**3+e*x**4+epsilon\n",
    "\n",
    "\n",
    "# extend x according to polynom of degree five\n",
    "x=x.reshape((x.shape[0],1))\n",
    "X = np.hstack((x,x**2,x**3,x**4,x**5))\n",
    "\n",
    "\n",
    "# perform actual regression\n",
    "v=interactive(showPlots,l=(0.005,1,0.001))\n",
    "v\n",
    "\n",
    "\n"
   ]
  },
  {
   "cell_type": "markdown",
   "id": "a445ebae-7f61-4d56-9faa-e53d5cd2010c",
   "metadata": {
    "tags": []
   },
   "source": [
    "<p style=\"text-align: center\"><img src=\"pics/Exercise.png\" alt=\"Bild\" style=\"height: 220px; width: 300px;\"><br></p><br>\n",
    "<h1>Hausaufgabe</h1> \n",
    "Laden Sie sich aus dem Verzeichnis data/data-000 die Datei \"data.npz\". Hierbei handelt es sich um ein numpy-Format zum Speichern von arrays. In diesem File finden Sie ein Array bestehend aus (x,y)-Paaren. Bestimmen Sie mittels linearer Regression den besten Fit. Teilen Sie hierzu die Daten in Trainingsdaten, Validierungsdaten und Testdaten ein und verfahren Sie entsprechend der Anleitung aus der Vorlesung.\n"
   ]
  },
  {
   "cell_type": "code",
   "execution_count": 1,
   "id": "66d17fdf-a526-42ed-91a3-87b91fb6375a",
   "metadata": {
    "tags": []
   },
   "outputs": [
    {
     "data": {
      "application/vnd.jupyter.widget-view+json": {
       "model_id": "600eefdb2d144e8fb2fee40219f622fe",
       "version_major": 2,
       "version_minor": 0
      },
      "text/plain": [
       "interactive(children=(IntSlider(value=30, description='xlim', max=30), IntSlider(value=10000, description='yli…"
      ]
     },
     "execution_count": 1,
     "metadata": {},
     "output_type": "execute_result"
    }
   ],
   "source": [
    "%matplotlib inline\n",
    "import numpy as np\n",
    "from sklearn.model_selection import train_test_split\n",
    "import matplotlib.pyplot as plt\n",
    "from sklearn.linear_model import *\n",
    "from ipywidgets import interactive, fixed\n",
    "\n",
    "def msqrt(pred, gt):\n",
    "    res = 0\n",
    "    num_samples = pred.shape[0]\n",
    "    for j in range(num_samples):\n",
    "        res = res + (pred[j]-gt[j])**2\n",
    "\n",
    "    return np.sqrt((1.0/num_samples*res))\n",
    "\n",
    "def do(xlim=30,ylim=10000):\n",
    "    # load data from npz-file\n",
    "    arr = np.load('data/data-000/data.npz')\n",
    "    data = arr['arr_0']\n",
    "\n",
    "    # let's shuffle \n",
    "    np.random.shuffle(data)\n",
    "\n",
    "    # lets keep the first 10 elements for final testing\n",
    "    test_set  = data[0:20,0:2]\n",
    "    train_set = data[20:,0:2] \n",
    "    size_train_set = train_set.shape[0]\n",
    "\n",
    "    X=train_set[:,0].reshape((size_train_set,1))\n",
    "    y=train_set[:,1].reshape((size_train_set,1))\n",
    "\n",
    "    # now create final train and validation set\n",
    "    # See also https://www.tutorialspoint.com/scikit_learn/scikit_learn_lasso.htm\n",
    "    # for more details\n",
    "    X_train, X_val, y_train, y_val = train_test_split(X,y, test_size=0.2, random_state=42)\n",
    "    min_err      = 10000\n",
    "    best_lambda  = 0\n",
    "\n",
    "    for i in np.arange(0,50,0.01):\n",
    "        reg = Ridge(alpha=i,max_iter=10000)\n",
    "\n",
    "        # setup matrix for training\n",
    "        X = np.hstack((X_train,X_train**2,X_train**3,X_train**4,X_train**5))\n",
    "        reg.fit(X, y_train)\n",
    "    \n",
    "        # check regressor on validation data set\n",
    "        # setup matrix for validation\n",
    "        X_v = np.hstack((X_val, X_val**2, X_val**3, X_val**4,X_val**5))\n",
    "        res = reg.predict(X_v)\n",
    "        err = msqrt(res, y_val)\n",
    "\n",
    "        if (err < min_err):\n",
    "            min_err = err\n",
    "            best_lambda = i\n",
    "            best_reg = reg\n",
    "\n",
    "    \n",
    "    print('min error = {}'.format(min_err))\n",
    "    print('best value of lambda = {}'.format(best_lambda))\n",
    "\n",
    "    # determine result on test-set\n",
    "    y_test = test_set[:,1].reshape((test_set.shape[0],1))\n",
    "    X_test = test_set[:,0].reshape((test_set.shape[0],1))\n",
    "    X = np.hstack((X_test, X_test**2, X_test**3, X_test**4, X_test**5))\n",
    "\n",
    "    res = best_reg.predict(X)\n",
    "    err = msqrt(res, y_test)\n",
    "    print('error on test-set {}'.format(err))\n",
    "    print('Intercept: {}'.format(best_reg.intercept_))\n",
    "    print('Coefficients: {}'.format(best_reg.coef_))\n",
    "    \n",
    "    print(best_reg.coef_.shape)\n",
    "    print(best_reg.intercept_.shape)\n",
    "\n",
    "    # plot best fit\n",
    "    x = np.arange(0,39,0.05)\n",
    "    plt.figure(figsize=(20,18))\n",
    "    plt.xlim(0,xlim)\n",
    "    plt.ylim(-ylim,ylim)\n",
    "    plt.title('Linear Regression')\n",
    "    plt.plot(data[:,0],data[:,1],'o')\n",
    "    plt.plot(x,best_reg.intercept_+best_reg.coef_[0,0]*x+best_reg.coef_[0,1]*x**2+best_reg.coef_[0,2]*x**3+best_reg.coef_[0,3]*x**4+best_reg.coef_[0,4]*x**5)\n",
    "    plt.show()\n",
    "\n",
    "# perform actual regression\n",
    "v=interactive(do,xlim=(0,30),ylim=(10,10000,50))\n",
    "v\n",
    "\n"
   ]
  },
  {
   "cell_type": "markdown",
   "id": "14e87a4b-1a53-4d4e-9a55-11351e3a5280",
   "metadata": {
    "tags": []
   },
   "source": [
    "<a id=\"s4\"></a><h3 style=\"color:rgb(127,203,223)\">2.3 Grundlegende Definitionen und Bewertungskriterien</h3>"
   ]
  },
  {
   "cell_type": "markdown",
   "id": "b88ea733-6c66-451d-a08f-37f26459ad6a",
   "metadata": {},
   "source": [
    "Bevor wir ausgewählte Verfahren der Klassifikation sowie der Regression näher betrachten, müssen wir Metriken bzgl. der Quantifizierung der Qualität dieser Verfahren erarbeiten. Während dies bei der Regression noch offensichtlich ist, wir vergleichen die kontinuierliche Ausgabe mit der Sollausgabe und bewerten die Abweichung, so gibt es bei der Bewertung der Qualität von Klassifikationverfahren doch einiges zu beachten. In diesem Kapitel sollen daher die Grundlagen für die Bewertung von Klassifikationsverfahren behandelt werden.<P>\n",
    "    Wir wollen mit der Behandlung so genannter binärer Klassifikatoren beginnen, \n",
    "    es geht also darum, jeder Eingabe eine von zwei möglichen Kategorien zuzuweisen. Wir werden später sehen, welche der hier definierten Metriken sich auf den Fall von nicht-binären Klassifikationen erweitern lassen. Die Art und Anzahl der Eingabevariablen, wie auch das konkret verwendete Klassifikationsverfahren spielt hier zunächst keine Rolle.<P>"
   ]
  },
  {
   "cell_type": "markdown",
   "id": "65cdc9d7-bdee-498f-a4a5-bfa738234d75",
   "metadata": {},
   "source": [
    "<a id=\"s5\"></a><h4 style=\"color:rgb(127,203,223)\">2.3.1 Metriken für die Binäre Klassifikation</h4>"
   ]
  },
  {
   "cell_type": "markdown",
   "id": "003a03e9-ac6d-4c1d-9d9a-cf276b91693b",
   "metadata": {},
   "source": [
    "Bei der Bewertung von Klassifikationsergebnissen gibt es vier zu unterscheidende Fälle. Um das Verständnis zu erleichtern, sollen diese Fälle sowie auch die folgenden Erläuterungen in Bezug auf ein Beispiel erläutert werden. Stellen wir uns daher vor, dass wir es mit einem Klassifikationsproblem aus der Medizin zu tun haben. Wir haben einen Test entworfen, der entscheiden soll, ob sich ein Patient mit der fiktiven Krankheit <i>DIVOC</i> infiziert hat. Der Test kann <i>positiv</i> ausfallen, dass heißt, die Krankheit wird nachgewiesen oder aber <i>negativ</i>, die Krankheit wird nicht nachgewiesen. In Abhängigkeit davon, ob der Patient sich tatsächlich mit DIVOC infiziert hat oder nicht, unterscheiden wir nun die folgenden vier Fälle:<P>\n",
    "<p style=\"text-align: center\"><img src=\"pics/ConfusionMatrix.png\" alt=\"Bild\"><br><b>Quelle: Wikipedia</b></p><br><P>\n",
    "    Wir sprechen hier auch von der so genannten <i>Confusion-Matrix</i>. Haben wir es, wie es normalerweise der Fall ist, mit mehreren Datensätzen zu tun, so werden in die Confusion-Matrix auch die jeweiligen Zahlen eingetragen (True Positive = 10, ...). Aus dieser Tabelle lassen sich nun eine Reihe von Metriken ableiten, die im folgenden erläutert werden sollen. Die englischen Bezeichnungen, die meistens verwendet werden, werden Klammern angegeben:\n",
    "<table border=\"1\">\n",
    "    <tr>\n",
    "        <td><b>Sensitivität (<i>sensitivity, recall, true positive rate</i>)</b>:</td><td>$TPR=\\frac{TP}{TP+FN}$</td>\n",
    "    </tr>\n",
    "    <tr>\n",
    "        <td><b>Falsch-negativ-Rate (<i>false negative rate, miss rate</i>)</b>:</td><td>$FNR=\\frac{FN}{FN+TP}$</td>\n",
    "    </tr>    \n",
    "    <tr>\n",
    "        <td><b>Spezifität (<i>specificity, true negative rate</i>)</b>:</td><td>$TNR=\\frac{TN}{TN+FP}$</td>\n",
    "    </tr>\n",
    "    <tr>\n",
    "        <td><b>Falsch-positiv-Rate (<i>false positive rate, fall-out</i>)</b>:</td><td>$FPR=\\frac{FP}{FP+TN}$</td>\n",
    "    </tr>    \n",
    "    <tr>\n",
    "        <td><b>Korrektklassifikationsrate (<i>accuracy</i>)</b>:</td><td>$ACC=\\frac{TP+TN}{TP+FP+TN+FN}$</td>\n",
    "    </tr>\n",
    "    <tr>\n",
    "        <td><b>Positiver Vorhersagewert (<i>precision, positive predictive valuje</i>)</b>:</td><td>$PPV=\\frac{TP}{TP+FP}$</td>\n",
    "    </tr>  \n",
    "    <td><b>F-Maß (<i>F1 score</i>)</b>:</td><td>$F_1=\\frac{2}{recall^{-1}+precision^{-1}}$</td>\n",
    "    </tr>\n",
    "</table>        \n",
    "    \n",
    "Setzen wir $x=\\frac{TP}{FN}$ so erhalten wir die folgende Darstellung:<p>    \n",
    "<p style=\"text-align: center\"><img src=\"pics/f1f2.png\" alt=\"Bild\" style=\"height: 440px; width: 600px;\"><br></p><br><p>\n",
    "Die einzelnen Metriken lassen sich nicht unabhänig voneinander optimieren. Insbesondere sind die Größen <i>Sensitivität</i> und <i>Spezifität</i> negativ korreliert. Wenn unser Test bspw. so ausgelegt ist, dass er möglichst alle Infizierten als Solche erkennen soll, so nähert sich die Sensitivität dem Wert Eins. Die Falsch-positiv-Rate und damit die Spezifität wird dann jedoch sehr klein und nähert sich der Null. Ist der Test jedoch sehr konservativ, so wird die Anzahl der tatsächlich erkrankten und als Solche identifizierten Patienten klein und damit die Sensitivität gering. Die Spezifität wird in diesem Fall jedoch hoch ausfallen.<P>\n",
    "    Das die alleinige Angabe der <i>Sensitivität</i> sowie der <i>Spezifität</i> jedoch nicht ausreichend dafür ist, dass das Testergebnis valide wird, soll anhand des Satzes von Bayes illustriert werden:<p>\n",
    "    <p style=\"text-align: center\"><b><a id=\"s8\"><u>Satz von Bayes:</u></b></p>\n",
    "    <p style=\"text-align: center\">$P(A|B) = \\frac{P(B|A)\\,P(A)}{P(B)}$</p>\n",
    "Setzen wir nun $A=$\"infiziert\" und $B=$\"positiver Test\", so gilt:<P>\n",
    "    <p style=\"text-align: center\">$P(A|B) = $Wahr'keit dafür, dass ein Patient bei positivem Test tatsächlich infiziert ist</p>\n",
    "    <p style=\"text-align: center\">$P(B|A) =$Wahr'keit dafür, dass der Test bei einem Infizierten positiv ausfällt. Dies ist gerade die Sensitivität des Tests</p>\n",
    "    <p style=\"text-align: center\">$P(\\neg B|\\neg A)=$ Wahr'keit dafür, dass ein nichtinfizierter Patient auch negativ getestet wird. Dies ist gerade die Spezifität des Tests</p>\n",
    "    <p style=\"text-align: center\">$P(A)$ ist die so genannte A-priori-Wahrscheinlichkeit für eine Infektion, die Mediziner sprechen hier von Prävalenz</p>\n",
    "    Wir erhalten durch eine einfache Umformung den folgenden Ausdruck für die Formel von Bayes:<P>\n",
    "    <p style=\"text-align: center\">$P(A|B) = \\frac{P(B|A)\\,P(A)}{P(B|A)\\,P(A)+P(B|\\neg A)\\, P(\\neg A)}$</p>\n",
    "    und somit schließlich den folgenden Zusammenhang:<P>\n",
    "<p style=\"text-align: center\">$P(A|B) = \\frac{sensitivity\\cdot P(A)}{sensitivity \\cdot P(A)+(1-specificity)\\cdot(1-P(A))}$</p>"
   ]
  },
  {
   "cell_type": "code",
   "execution_count": 1,
   "id": "77494a53-6ea7-4a84-a6b1-abccc2519f00",
   "metadata": {
    "tags": []
   },
   "outputs": [
    {
     "data": {
      "text/html": [
       "\n",
       "        <iframe\n",
       "            width=\"800\"\n",
       "            height=\"600\"\n",
       "            src=\"https://www.geogebra.org/m/hrjmmqeu\"\n",
       "            frameborder=\"0\"\n",
       "            allowfullscreen\n",
       "            \n",
       "        ></iframe>\n",
       "        "
      ],
      "text/plain": [
       "<IPython.lib.display.IFrame at 0x106687010>"
      ]
     },
     "execution_count": 1,
     "metadata": {},
     "output_type": "execute_result"
    }
   ],
   "source": [
    "from IPython.display import IFrame\n",
    "IFrame(src='https://www.geogebra.org/m/hrjmmqeu', width=800, height=600)"
   ]
  },
  {
   "cell_type": "markdown",
   "id": "f0b159b9-4a52-445f-a406-e446d3cdfe36",
   "metadata": {},
   "source": [
    "Wie bereits eingangs im Kapitel 2.2 erwähnt, kann es sein, dass wie im Beispiel des Satzes von Bayes nicht direkt eine Kategorie bestimmt werden kann, sondern stattdessen eine Wahrscheinlichkeit für die Zugehörigkeit zu einer Kategorie. Hier muss dann erst unter Verwendung eines Maximums oder eines Schwellwertes über die endgültige Klassifikation entschieden werden. Klassifikatoren, die einen Wahrscheinlichkeitswert oder allgemein einen Score für eine Kategorie berechnen - also eigentlich zunächst eine Art von Regression darstellen - können dann unter Anwendung eines Schwellwertes die eigentliche Klassifikation durchführen. Um die Güte dieser Klassifikatoren insbesondere in Abhängigkeit von eben diesem Schwellwert zu bestimmen, steht uns die so genannte <i><b>R</b>eceiver <b>O</b>perating <b>C</b>haracteristic</i> zur Verfügung, die wie folgt erstellt werden kann.<p>\n",
    "Nehmen wir an, wir hätten die folgenden Trainingsdaten:<P>\n",
    "    <p style=\"text-align: center\">$y=(0,0,0,0,0,1,1,1,1,1)$ seien die wahren Klassenlabel (Ground Truth)</p>\n",
    "    <p style=\"text-align: center\">$x=(0.05,0.3,0.66,0.45,0.76,0.56,0.81,0.92,0.46,0.99)$</p> seien die zugehörigen Scores, die von einem ML-Algorithmus berechnet worden sind. Zunächst werden die Daten (Paare aus Score und Label) in aufsteigender Reihenfolge in Bezug auf den Score sortiert. Wir erhalten dann:<p>\n",
    "<p style=\"text-align: center\">$\\{(x_0,y_0),...\\}=\\{(0.05,0), (0.3,0), (0.45,0), (0.46,1), (0.56,1), (0.66,0), (0.76,0), (0.81,1), (0.92,1), (0.99,1)\\}$</p>  \n",
    "    Nun wird der Schwellwert kleiner dem niedrigsten Score gesetzt. Alle Beispiele mit einem Score größer dem Schwellwert, also alle, werden der Klasse 1 zugeordnet. Wir erhalten somit die folgende Confusion-Matrix:<P>\n",
    "    <p style=\"text-align: center\"><img src=\"pics/ConfusionMatrix_Template.png\" alt=\"Bild\" style=\"height: 440px; width: 600px;\"></p><br>\n",
    "Anschließend wird der Schwellwert zwischen dem ersten und dem zweiten Element der geordneten Liste platziert. Auch hieraus resultiert wieder eine Confusion-Matrix:<P>\n",
    "    <p style=\"text-align: center\"><img src=\"pics/ConfusionMatrix_Template.png\" alt=\"Bild\" style=\"height: 440px; width: 600px;\"></p><br>\n",
    "Dieses Vorgehen wird fortgesetzt bis der Schwellwert oberhalb des größten Scores liegt und somite alle Beispiele die Klasse 0 zugewiesen bekommen. Wir erhalten dann die folgende Confusion-Matrix:<P>\n",
    "    <p style=\"text-align: center\"><img src=\"pics/ConfusionMatrix_Template.png\" alt=\"Bild\" style=\"height: 440px; width: 600px;\"></p><br>\n",
    "Für jede Confusion-Matrix kann nun das Pärchen $(FPR,TPR)$ berechnet werden. Diese Punkte werden nun in das so genannte ROC-Diagramm eingetragen. Wir erhalten für das obige Beispiel das folgende Diagramm:<P>\n",
    "<p style=\"text-align: center\"><img src=\"pics/ROC.png\" alt=\"Bild\" style=\"height: 440px; width: 600px;\"><br></p>\n",
    "Anbei noch ein Beispiel in Geogebra:    "
   ]
  },
  {
   "cell_type": "code",
   "execution_count": 1,
   "id": "fb5c883d-38f2-4ec4-b430-4ed607623072",
   "metadata": {},
   "outputs": [
    {
     "data": {
      "text/html": [
       "\n",
       "        <iframe\n",
       "            width=\"800\"\n",
       "            height=\"600\"\n",
       "            src=\"https://www.geogebra.org/m/pg37czq2\"\n",
       "            frameborder=\"0\"\n",
       "            allowfullscreen\n",
       "            \n",
       "        ></iframe>\n",
       "        "
      ],
      "text/plain": [
       "<IPython.lib.display.IFrame at 0x1075b2e10>"
      ]
     },
     "execution_count": 1,
     "metadata": {},
     "output_type": "execute_result"
    }
   ],
   "source": [
    "from IPython.display import IFrame\n",
    "IFrame(src='https://www.geogebra.org/m/pg37czq2', width=800, height=600)\n"
   ]
  },
  {
   "cell_type": "markdown",
   "id": "243e6ddc-ad78-4006-884a-f4a330341795",
   "metadata": {},
   "source": [
    "<p style=\"text-align: center\"><img src=\"pics/Exercise.png\" alt=\"Bild\" style=\"height: 220px; width: 300px;\"><br></p><br>\n",
    "<b><u>Es ist wieder Zeit für ein bisschen Übung ...</b></u><P>\n",
    "    Im Ordner data finden Sie im Unterordner data-001 einen Stapel von Bildern. Es handelt sich dabei um Schwarzweiß-Bilder, die die Ground Truth für die Segmentierung von Wirbelkörpern (<a href=\"Chapter01.ipynb#s6\">siehe hier</a>) darstellen. Laden Sie diese Bilder ein und berechnen Sie das Verhältnis von weißen zu schwarzen Pixeln. Leiten Sie aus diesem eine untere Grenze für die <i>accuracy</i> bei der Segmentierung ab. "
   ]
  },
  {
   "cell_type": "code",
   "execution_count": 2,
   "id": "c6d5e2c3-fba3-4480-a4b7-af8af459931c",
   "metadata": {},
   "outputs": [
    {
     "name": "stdout",
     "output_type": "stream",
     "text": [
      "Percentage of black pixel: 97.73419056085007\n"
     ]
    },
    {
     "data": {
      "image/png": "[encoded data removed]",
      "text/plain": [
       "<Figure size 640x480 with 1 Axes>"
      ]
     },
     "metadata": {},
     "output_type": "display_data"
    },
    {
     "data": {
      "text/plain": [
       "(<matplotlib.image.AxesImage at 0x13fb8b250>, None)"
      ]
     },
     "execution_count": 2,
     "metadata": {},
     "output_type": "execute_result"
    }
   ],
   "source": [
    "import os\n",
    "import numpy as np\n",
    "from skimage.io import *\n",
    "import matplotlib.pyplot as plt\n",
    "filelist=os.listdir(r\"data/data-001\")\n",
    "\n",
    "num_pixel_black = 0\n",
    "num_pixel_white = 0\n",
    "\n",
    "for file in filelist:\n",
    "    if file.endswith(\".png\"):\n",
    "        name='data/data-001/{}'.format(file)\n",
    "        img = imread(name)\n",
    "\n",
    "        num_pixel_black = num_pixel_black + np.argwhere(img==0).shape[0]\n",
    "        num_pixel_white = num_pixel_white + np.argwhere(img>0).shape[0]\n",
    "\n",
    "print(\"Percentage of black pixel: {}\".format(num_pixel_black/(num_pixel_black+num_pixel_white)*100))\n",
    "img=imread('data/data-001/image_01-slice012.png')\n",
    "plt.imshow(img), plt.show()\n",
    "\n",
    "\n"
   ]
  },
  {
   "cell_type": "markdown",
   "id": "e52f23e1-2cfc-426f-83c3-15b806ba8ae2",
   "metadata": {
    "tags": []
   },
   "source": [
    "<a id=\"s6\"></a><h4 style=\"color:rgb(127,203,223)\">2.3.2 Metriken für die Multiklassen-Klassifikation</h4>"
   ]
  },
  {
   "cell_type": "markdown",
   "id": "7739c192-1b96-41f5-ad2e-1c46497ab235",
   "metadata": {},
   "source": [
    "Eine Größe aus dem Bereich der binären Klassifikation, die sich direkt auf den Fall von mehr als zwei zu unterscheidenden Klassen übertragen lässt ist die <b>Confusion-Matrix</b>. Gehen wir bspw. davon aus, dass wir Bilder anhand ihres semantischen Inhaltes (Hund, Katze, Vogel) unterscheiden wollen. Jedes vorgelegte Bild bildet also eines der drei genannten Haustiere ab. Nachdem wir einen geeigneten Klassifikator gefunden und trainiert haben, können wir die Ergebnisse wie folgt in einer Confusion-Matrix zusammenfassen: \n",
    "<a id=\"s7\"><p style=\"text-align: center\"><img src=\"pics/ConfusionMatrixMulti.png\" alt=\"Bild\" style=\"height: 420px; width: 700px;\"></a><br></p>\n",
    "Rechts unter \"Total\" finden wir jeweils die Anzahl der tatsächlichen (actual) Tiere der jeweiligen Art. In der letzten Zeile finden wir unter \"Total\" jeweils die Anzahl der Klassifizierungen für jede Tierart. Die Confusion-Matrix lässt sich leicht auf eine beliebige Anzahl von zu unterscheidenden Klassen erweitern.<P>\n",
    "    Die <b>Korrektklassifikationsrate (accruracy)</b> lässt sich nun unmittelbar auf den Fall der Multiklassen-Klassifikation übertragen:<P>\n",
    "    <table border=\"1\">\n",
    "    <tr>\n",
    "        <td><b>Korrektklassifikationsrate (<i>accuracy</i>)</b>:</td><td>$ACC=\\frac{\\sum\\limits_{m=1}^{K} C_{m m}}{\\sum\\limits_{m=1}^{K}\\sum\\limits_{n=1}^{K} C_{m n}}$</td>\n",
    "    </tr>\n",
    "</table> \n",
    "    Wir summieren hierbei also die Werte der Diagonalelemente der Confusion-Matrix $\\underline{\\underline{C}}$ auf und dividieren diese Summe durch die Summe aller Elemente der Confusion-Matrix. Angewendet auf die obige Confusion Matrix würden wir so z.B. den Wert 0.817 für die accuracy erhalten. Diese Definition ist konsistent mit der Definition im Falle der binären Klassifikation, wie Sie leicht nachprüfen können.\n",
    " <p style=\"text-align: center\"><img src=\"pics/Gluehbirne.jpg\" alt=\"Bild\" style=\"height: 220px; width: 300px;\"><br></p><br>\n",
    "    <p style=\"text-align: center\">Was gilt es bei Anwendung der Accuracy zu beachten ???</p><br>\n",
    "    "
   ]
  },
  {
   "cell_type": "markdown",
   "id": "bc682946-7e4e-4b3e-8f6b-5d8726f2746c",
   "metadata": {},
   "source": [
    "Um diesen Nachteilen der accuracy zu begegnen, betrachten wir nun die so genannte <b>Balanced Accuracy</b>. Diese Variante der accuracy ist nicht mehr sensitiv gegenüber einer unausgeglichenen (unbalanced) Häufigkeitsverteilung der Daten im Hinblick auf die unterschiedlichen Klassen (Anzahl der Klassen gleich $K$). Die Balanced Accuracy ist wie folgt definiert:<P>\n",
    "<table border=\"1\">\n",
    "    <tr>\n",
    "        <td><b>Balanced Accuracy</b>:</td><td>$\\frac{\\sum\\limits_{m=1}^{K} \\frac{C_{m m}}{\\sum\\limits_{n=1}^{K} C_{m n}}}{K}$</td>\n",
    "    </tr>\n",
    "</table> <p>\n",
    "Die Balanced Accuracy lässt sich auch so lesen, dass für jede einzelne Klasse der Recall berechnet wird (die gewählte Klasse wird als Positiv- und alle anderen als Negativ-Fall gewertet). Die Balanced Accuracy ist dann einfach das arithmetische Mittel all dieser Recalls.<p>\n",
    "    Auch das F-Maß (F1 score) lässt sich auf den Fall der Multiklassen-Klassifikation erweitern. Hierzu gehen wir wie folgt für jede einzelne Klasse vor, um deren Recall und Precision zu berechnen:<p>\n",
    "    Wir wählen nacheinander alle Klassen aus. Haben wir eine Klasse gewählt, in untenstehender Abbildung ist das die Klasse \"dog\", so betrachten wir diese als den Positiv- und alle anderen Klassen als den Negativ-Fall. Auf diese Weise erhalten wir wieder eine binäre Klassifikation, für die wir Precision und Recall berechnen können.<p>    \n",
    " <p style=\"text-align: center\"><img src=\"pics/Classwise-Precision-Recall.png\" alt=\"Bild\" style=\"height: 420px; width: 700px;\"><br></p><br>\n",
    "Es gilt dann:<p>\n",
    "<table border=\"1\">\n",
    "    <tr>\n",
    "        <td>$Precision_k=\\frac{TP_k}{TP_k+FP_k}$</td>\n",
    "    </tr>\n",
    "    <tr>\n",
    "        <td>$Recall_k=\\frac{TP_k}{TP_k+FN_k}$</td>\n",
    "    </tr>    \n",
    "</table>     \n",
    "    Wir berechnen nun einen Wert für die mittlere <i>Precision</i> sowie die mittlere <i>Accuracy</i> und daraus schließlich das F-Maß (F1 score):\n",
    "<table border=\"1\">\n",
    "    <tr>\n",
    "        <td>$<Precision>=\\frac{\\sum\\limits_{k=1}^{N} Precision_k}{N}$</td>\n",
    "    </tr>\n",
    "    <tr>\n",
    "        <td>$<Recall>=\\frac{\\sum\\limits_{k=1}^{N} Recall_k}{N}$</td>\n",
    "    </tr>   \n",
    "    <tr>\n",
    "        <td>$F1=2\\,\\frac{<Precision>\\,<Recall>}{<Precision>+<Recall>}$</td>\n",
    "    </tr>   \n",
    "</table>         \n",
    "Abschließend schauen wir uns noch den <b>Cohens Kappa</b> an. Dies ist ein statistisches Maß für die Interrater-Reliabilität. Wir können hiermit das Ausmaß von so genannten Konkordanzen (=Übereinstimmungen) abschätzen. Im Falle eines binären Klassifizierers berechnet sich das Maß zu:<P>\n",
    "<table border=\"1\">\n",
    "    <tr>\n",
    "        <td>$K=\\frac{P_o-P_e}{1-P_e}$</td>\n",
    "    </tr>\n",
    "</table>    \n",
    "Hierbei bezeichnet $P_o$ den Anteil an übereinstimmenden Entscheidungen (Die Zuordnungen der wahren Klassen können hierbei ebenfalls als das Ergebnis eines \"sehr guten\" Raters angesehen werden). $P_e$ hingegen ist die Übereinstimmung, die wir aus bloßem Zufall erwarten würden. Die Größen lassen sich wie folgt aus der Confusion-Matrix ablesen:\n",
    "<table border=\"1\">\n",
    "    <tr>\n",
    "        <td>$P_e=P_{positive} + P_{negativ}$</td>\n",
    "    </tr>\n",
    "    <tr>\n",
    "        <td>$P_{positive}=\\frac{TP+FN}{N}\\, \\frac{TP+FP}{N}$</td>\n",
    "    </tr>  \n",
    "    <tr>\n",
    "        <td>$P_{negative}=\\frac{TN+FP}{N}\\, \\frac{TN+FN}{N}$</td>\n",
    "    </tr>    \n",
    "    <tr>\n",
    "        <td>$P_o=\\frac{TP+TN}{N}$</td>\n",
    "    </tr>        \n",
    "</table>        \n",
    "$N$ gibt hierbei die Anzahl aller Daten an (siehe rechtes unteres Feld in obiger Darstellung der Confusion-Matrix). Cohens Kappa wird 1, wenn die Rater zu 100% übereinstimmen, bzw. der Klassifikator perfekte Ergebnisse liefert. Cohens Kappa nimmt hingegen den Wert Null an, wenn die Anzahl an Übereinstimmungen nur den zufällig zu erwartenden Übereinstimmungen entspricht.<P>\n",
    "Wir können Cohens Kappa nun direkt auf den Fall von mehr als zwei Klassen verallgemeinern:\n",
    "<table border=\"1\">\n",
    "    <tr>\n",
    "        <td>$K = \\frac{\\sum\\limits_{k=1}^{K}C_{k k}\\,N-\\sum\\limits_{k=1}^{K}p_k\\,t_k}{N^2-\\sum\\limits_{k=1}^{K}p_k\\,t_k}$</td>\n",
    "    </tr>\n",
    "</table>         \n",
    "wobei $p_k=\\sum\\limits_{i=1}^{K} C_{k i}$ angibt, wie oft die Klasse $k$ wirklich vorgekommen ist und $t_k=\\sum\\limits_{i=1}^{K} C_{i k}$ angibt, wie oft die Klasse $k$ prädiziert worden ist.     "
   ]
  },
  {
   "cell_type": "markdown",
   "id": "3eff8f4f-7d25-46a0-a92b-85a2dd10571f",
   "metadata": {},
   "source": [
    "<p style=\"text-align: center\"><img src=\"pics/Exercise.png\" alt=\"Bild\" style=\"height: 220px; width: 300px;\"><br></p><br>\n",
    "<b><u>Es ist wieder Zeit für ein bisschen Übung ...</b></u><P>\n",
    "Bestimmen Sie für die <a href=\"Chapter02.ipynb#s7\">Confusion-Matrix</a> Cohens Kappa\n"
   ]
  },
  {
   "cell_type": "code",
   "execution_count": 3,
   "id": "d7c9a52d-f6df-42f9-867e-70c3a828c239",
   "metadata": {},
   "outputs": [
    {
     "name": "stdout",
     "output_type": "stream",
     "text": [
      "0.725752508361204\n"
     ]
    }
   ],
   "source": [
    "import numpy as np\n",
    "\n",
    "# confusion matrix\n",
    "C = np.array([[23,4,0],[6,20,1],[2,2,24]])\n",
    "\n",
    "# array of p_k and t_k\n",
    "p_k = np.zeros(3)\n",
    "t_k = np.zeros(3)\n",
    "\n",
    "for i in range(3):\n",
    "    p_k[i] = C[i,:].sum()\n",
    "    t_k[i] = C[:,i].sum()\n",
    "        \n",
    "kappa = (np.trace(C)*np.sum(C)-(p_k*t_k).sum())/(np.sum(C)**2-(p_k*t_k).sum())\n",
    "print(kappa)\n"
   ]
  },
  {
   "cell_type": "code",
   "execution_count": null,
   "id": "a6bca072-f565-42c9-905b-bb36c0ad5d95",
   "metadata": {},
   "outputs": [],
   "source": []
  }
 ],
 "metadata": {
  "kernelspec": {
   "display_name": "python3.11",
   "language": "python",
   "name": "python3.11"
  },
  "language_info": {
   "codemirror_mode": {
    "name": "ipython",
    "version": 3
   },
   "file_extension": ".py",
   "mimetype": "text/x-python",
   "name": "python",
   "nbconvert_exporter": "python",
   "pygments_lexer": "ipython3",
   "version": "3.11.6"
  }
 },
 "nbformat": 4,
 "nbformat_minor": 5
}
